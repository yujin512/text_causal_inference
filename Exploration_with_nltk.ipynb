{
  "nbformat": 4,
  "nbformat_minor": 0,
  "metadata": {
    "colab": {
      "name": "Exploration with nltk.ipynb",
      "provenance": [],
      "authorship_tag": "ABX9TyNjwN4C76yfOvO5m88lUC5o",
      "include_colab_link": true
    },
    "kernelspec": {
      "name": "python3",
      "display_name": "Python 3"
    }
  },
  "cells": [
    {
      "cell_type": "markdown",
      "metadata": {
        "id": "view-in-github",
        "colab_type": "text"
      },
      "source": [
        "<a href=\"https://colab.research.google.com/github/yujin512/text_causal_inference/blob/master/Exploration_with_nltk.ipynb\" target=\"_parent\"><img src=\"https://colab.research.google.com/assets/colab-badge.svg\" alt=\"Open In Colab\"/></a>"
      ]
    },
    {
      "cell_type": "code",
      "metadata": {
        "id": "XRPcRCj0R0BV",
        "colab_type": "code",
        "colab": {
          "base_uri": "https://localhost:8080/",
          "height": 1000
        },
        "outputId": "cdae0179-b4d5-488c-b576-61012a34e927"
      },
      "source": [
        "import nltk\n",
        "nltk.download()"
      ],
      "execution_count": 8,
      "outputs": [
        {
          "output_type": "stream",
          "text": [
            "NLTK Downloader\n",
            "---------------------------------------------------------------------------\n",
            "    d) Download   l) List    u) Update   c) Config   h) Help   q) Quit\n",
            "---------------------------------------------------------------------------\n",
            "Downloader> d)\n",
            "Command 'd)' unrecognized\n",
            "\n",
            "---------------------------------------------------------------------------\n",
            "    d) Download   l) List    u) Update   c) Config   h) Help   q) Quit\n",
            "---------------------------------------------------------------------------\n",
            "Downloader> d\n",
            "\n",
            "Download which package (l=list; x=cancel)?\n",
            "  Identifier> l\n",
            "Packages:\n",
            "  [ ] abc................. Australian Broadcasting Commission 2006\n",
            "  [ ] alpino.............. Alpino Dutch Treebank\n",
            "  [ ] averaged_perceptron_tagger Averaged Perceptron Tagger\n",
            "  [ ] averaged_perceptron_tagger_ru Averaged Perceptron Tagger (Russian)\n",
            "  [ ] basque_grammars..... Grammars for Basque\n",
            "  [ ] biocreative_ppi..... BioCreAtIvE (Critical Assessment of Information\n",
            "                           Extraction Systems in Biology)\n",
            "  [ ] bllip_wsj_no_aux.... BLLIP Parser: WSJ Model\n",
            "  [ ] book_grammars....... Grammars from NLTK Book\n",
            "  [ ] brown............... Brown Corpus\n",
            "  [ ] brown_tei........... Brown Corpus (TEI XML Version)\n",
            "  [ ] cess_cat............ CESS-CAT Treebank\n",
            "  [ ] cess_esp............ CESS-ESP Treebank\n",
            "  [ ] chat80.............. Chat-80 Data Files\n",
            "  [ ] city_database....... City Database\n",
            "  [ ] cmudict............. The Carnegie Mellon Pronouncing Dictionary (0.6)\n",
            "  [ ] comparative_sentences Comparative Sentence Dataset\n",
            "  [ ] comtrans............ ComTrans Corpus Sample\n",
            "  [ ] conll2000........... CONLL 2000 Chunking Corpus\n",
            "  [ ] conll2002........... CONLL 2002 Named Entity Recognition Corpus\n",
            "Hit Enter to continue: brown\n",
            "  [ ] conll2007........... Dependency Treebanks from CoNLL 2007 (Catalan\n",
            "                           and Basque Subset)\n",
            "  [ ] crubadan............ Crubadan Corpus\n",
            "  [ ] dependency_treebank. Dependency Parsed Treebank\n",
            "  [ ] dolch............... Dolch Word List\n",
            "  [ ] europarl_raw........ Sample European Parliament Proceedings Parallel\n",
            "                           Corpus\n",
            "  [ ] floresta............ Portuguese Treebank\n",
            "  [ ] framenet_v15........ FrameNet 1.5\n",
            "  [ ] framenet_v17........ FrameNet 1.7\n",
            "  [ ] gazetteers.......... Gazeteer Lists\n",
            "  [ ] genesis............. Genesis Corpus\n",
            "  [ ] gutenberg........... Project Gutenberg Selections\n",
            "  [ ] ieer................ NIST IE-ER DATA SAMPLE\n",
            "  [ ] inaugural........... C-Span Inaugural Address Corpus\n",
            "  [ ] indian.............. Indian Language POS-Tagged Corpus\n",
            "  [ ] jeita............... JEITA Public Morphologically Tagged Corpus (in\n",
            "                           ChaSen format)\n",
            "  [ ] kimmo............... PC-KIMMO Data Files\n",
            "  [ ] knbc................ KNB Corpus (Annotated blog corpus)\n",
            "  [ ] large_grammars...... Large context-free and feature-based grammars\n",
            "                           for parser comparison\n",
            "Hit Enter to continue: \n",
            "  [ ] lin_thesaurus....... Lin's Dependency Thesaurus\n",
            "  [ ] mac_morpho.......... MAC-MORPHO: Brazilian Portuguese news text with\n",
            "                           part-of-speech tags\n",
            "  [ ] machado............. Machado de Assis -- Obra Completa\n",
            "  [ ] masc_tagged......... MASC Tagged Corpus\n",
            "  [ ] maxent_ne_chunker... ACE Named Entity Chunker (Maximum entropy)\n",
            "  [ ] maxent_treebank_pos_tagger Treebank Part of Speech Tagger (Maximum entropy)\n",
            "  [ ] moses_sample........ Moses Sample Models\n",
            "  [ ] movie_reviews....... Sentiment Polarity Dataset Version 2.0\n",
            "  [ ] mte_teip5........... MULTEXT-East 1984 annotated corpus 4.0\n",
            "  [ ] mwa_ppdb............ The monolingual word aligner (Sultan et al.\n",
            "                           2015) subset of the Paraphrase Database.\n",
            "  [ ] names............... Names Corpus, Version 1.3 (1994-03-29)\n",
            "  [ ] nombank.1.0......... NomBank Corpus 1.0\n",
            "  [ ] nonbreaking_prefixes Non-Breaking Prefixes (Moses Decoder)\n",
            "  [ ] nps_chat............ NPS Chat\n",
            "  [ ] omw................. Open Multilingual Wordnet\n",
            "  [ ] opinion_lexicon..... Opinion Lexicon\n",
            "  [ ] panlex_swadesh...... PanLex Swadesh Corpora\n",
            "  [ ] paradigms........... Paradigm Corpus\n",
            "  [ ] pe08................ Cross-Framework and Cross-Domain Parser\n",
            "                           Evaluation Shared Task\n",
            "Hit Enter to continue: brown\n",
            "  [ ] perluniprops........ perluniprops: Index of Unicode Version 7.0.0\n",
            "                           character properties in Perl\n",
            "  [ ] pil................. The Patient Information Leaflet (PIL) Corpus\n",
            "  [ ] pl196x.............. Polish language of the XX century sixties\n",
            "  [ ] porter_test......... Porter Stemmer Test Files\n",
            "  [ ] ppattach............ Prepositional Phrase Attachment Corpus\n",
            "  [ ] problem_reports..... Problem Report Corpus\n",
            "  [ ] product_reviews_1... Product Reviews (5 Products)\n",
            "  [ ] product_reviews_2... Product Reviews (9 Products)\n",
            "  [ ] propbank............ Proposition Bank Corpus 1.0\n",
            "  [ ] pros_cons........... Pros and Cons\n",
            "  [ ] ptb................. Penn Treebank\n",
            "  [ ] punkt............... Punkt Tokenizer Models\n",
            "  [ ] qc.................. Experimental Data for Question Classification\n",
            "  [ ] reuters............. The Reuters-21578 benchmark corpus, ApteMod\n",
            "                           version\n",
            "  [ ] rslp................ RSLP Stemmer (Removedor de Sufixos da Lingua\n",
            "                           Portuguesa)\n",
            "  [ ] rte................. PASCAL RTE Challenges 1, 2, and 3\n",
            "  [ ] sample_grammars..... Sample Grammars\n",
            "  [ ] semcor.............. SemCor 3.0\n",
            "Hit Enter to continue: \n",
            "  [ ] senseval............ SENSEVAL 2 Corpus: Sense Tagged Text\n",
            "  [ ] sentence_polarity... Sentence Polarity Dataset v1.0\n",
            "  [ ] sentiwordnet........ SentiWordNet\n",
            "  [ ] shakespeare......... Shakespeare XML Corpus Sample\n",
            "  [ ] sinica_treebank..... Sinica Treebank Corpus Sample\n",
            "  [ ] smultron............ SMULTRON Corpus Sample\n",
            "  [ ] snowball_data....... Snowball Data\n",
            "  [ ] spanish_grammars.... Grammars for Spanish\n",
            "  [ ] state_union......... C-Span State of the Union Address Corpus\n",
            "  [ ] stopwords........... Stopwords Corpus\n",
            "  [ ] subjectivity........ Subjectivity Dataset v1.0\n",
            "  [ ] swadesh............. Swadesh Wordlists\n",
            "  [ ] switchboard......... Switchboard Corpus Sample\n",
            "  [ ] tagsets............. Help on Tagsets\n",
            "  [ ] timit............... TIMIT Corpus Sample\n",
            "  [ ] toolbox............. Toolbox Sample Files\n",
            "  [ ] treebank............ Penn Treebank Sample\n",
            "  [ ] twitter_samples..... Twitter Samples\n",
            "  [ ] udhr2............... Universal Declaration of Human Rights Corpus\n",
            "                           (Unicode Version)\n",
            "  [ ] udhr................ Universal Declaration of Human Rights Corpus\n",
            "Hit Enter to continue: udhr\n",
            "  [ ] unicode_samples..... Unicode Samples\n",
            "  [ ] universal_tagset.... Mappings to the Universal Part-of-Speech Tagset\n",
            "  [ ] universal_treebanks_v20 Universal Treebanks Version 2.0\n",
            "  [ ] vader_lexicon....... VADER Sentiment Lexicon\n",
            "  [ ] verbnet3............ VerbNet Lexicon, Version 3.3\n",
            "  [ ] verbnet............. VerbNet Lexicon, Version 2.1\n",
            "  [ ] webtext............. Web Text Corpus\n",
            "  [ ] wmt15_eval.......... Evaluation data from WMT15\n",
            "  [ ] word2vec_sample..... Word2Vec Sample\n",
            "  [ ] wordnet............. WordNet\n",
            "  [ ] wordnet_ic.......... WordNet-InfoContent\n",
            "  [ ] words............... Word Lists\n",
            "  [ ] ycoe................ York-Toronto-Helsinki Parsed Corpus of Old\n",
            "                           English Prose\n",
            "\n",
            "Collections:\n",
            "  [ ] all-corpora......... All the corpora\n",
            "  [ ] all-nltk............ All packages available on nltk_data gh-pages\n",
            "                           branch\n",
            "  [ ] all................. All packages\n",
            "  [ ] book................ Everything used in the NLTK Book\n",
            "  [ ] popular............. Popular packages\n",
            "Hit Enter to continue: book\n",
            "  [ ] tests............... Packages for running tests\n",
            "  [ ] third-party......... Third-party data packages\n",
            "\n",
            "([*] marks installed packages)\n",
            "\n",
            "Download which package (l=list; x=cancel)?\n",
            "  Identifier> book\n",
            "    Downloading collection 'book'\n",
            "       | \n",
            "       | Downloading package abc to /root/nltk_data...\n",
            "       |   Unzipping corpora/abc.zip.\n",
            "       | Downloading package brown to /root/nltk_data...\n",
            "       |   Unzipping corpora/brown.zip.\n",
            "       | Downloading package chat80 to /root/nltk_data...\n",
            "       |   Unzipping corpora/chat80.zip.\n",
            "       | Downloading package cmudict to /root/nltk_data...\n",
            "       |   Unzipping corpora/cmudict.zip.\n",
            "       | Downloading package conll2000 to /root/nltk_data...\n",
            "       |   Unzipping corpora/conll2000.zip.\n",
            "       | Downloading package conll2002 to /root/nltk_data...\n",
            "       |   Unzipping corpora/conll2002.zip.\n",
            "       | Downloading package dependency_treebank to /root/nltk_data...\n",
            "       |   Unzipping corpora/dependency_treebank.zip.\n",
            "       | Downloading package genesis to /root/nltk_data...\n",
            "       |   Unzipping corpora/genesis.zip.\n",
            "       | Downloading package gutenberg to /root/nltk_data...\n",
            "       |   Unzipping corpora/gutenberg.zip.\n",
            "       | Downloading package ieer to /root/nltk_data...\n",
            "       |   Unzipping corpora/ieer.zip.\n",
            "       | Downloading package inaugural to /root/nltk_data...\n",
            "       |   Unzipping corpora/inaugural.zip.\n",
            "       | Downloading package movie_reviews to /root/nltk_data...\n",
            "       |   Unzipping corpora/movie_reviews.zip.\n",
            "       | Downloading package nps_chat to /root/nltk_data...\n",
            "       |   Unzipping corpora/nps_chat.zip.\n",
            "       | Downloading package names to /root/nltk_data...\n",
            "       |   Unzipping corpora/names.zip.\n",
            "       | Downloading package ppattach to /root/nltk_data...\n",
            "       |   Unzipping corpora/ppattach.zip.\n",
            "       | Downloading package reuters to /root/nltk_data...\n",
            "       | Downloading package senseval to /root/nltk_data...\n",
            "       |   Unzipping corpora/senseval.zip.\n",
            "       | Downloading package state_union to /root/nltk_data...\n",
            "       |   Unzipping corpora/state_union.zip.\n",
            "       | Downloading package stopwords to /root/nltk_data...\n",
            "       |   Unzipping corpora/stopwords.zip.\n",
            "       | Downloading package swadesh to /root/nltk_data...\n",
            "       |   Unzipping corpora/swadesh.zip.\n",
            "       | Downloading package timit to /root/nltk_data...\n",
            "       |   Unzipping corpora/timit.zip.\n",
            "       | Downloading package treebank to /root/nltk_data...\n",
            "       |   Unzipping corpora/treebank.zip.\n",
            "       | Downloading package toolbox to /root/nltk_data...\n",
            "       |   Unzipping corpora/toolbox.zip.\n",
            "       | Downloading package udhr to /root/nltk_data...\n",
            "       |   Unzipping corpora/udhr.zip.\n",
            "       | Downloading package udhr2 to /root/nltk_data...\n",
            "       |   Unzipping corpora/udhr2.zip.\n",
            "       | Downloading package unicode_samples to /root/nltk_data...\n",
            "       |   Unzipping corpora/unicode_samples.zip.\n",
            "       | Downloading package webtext to /root/nltk_data...\n",
            "       |   Unzipping corpora/webtext.zip.\n",
            "       | Downloading package wordnet to /root/nltk_data...\n",
            "       |   Unzipping corpora/wordnet.zip.\n",
            "       | Downloading package wordnet_ic to /root/nltk_data...\n",
            "       |   Unzipping corpora/wordnet_ic.zip.\n",
            "       | Downloading package words to /root/nltk_data...\n",
            "       |   Unzipping corpora/words.zip.\n",
            "       | Downloading package maxent_treebank_pos_tagger to\n",
            "       |     /root/nltk_data...\n",
            "       |   Unzipping taggers/maxent_treebank_pos_tagger.zip.\n",
            "       | Downloading package maxent_ne_chunker to /root/nltk_data...\n",
            "       |   Unzipping chunkers/maxent_ne_chunker.zip.\n",
            "       | Downloading package universal_tagset to /root/nltk_data...\n",
            "       |   Unzipping taggers/universal_tagset.zip.\n",
            "       | Downloading package punkt to /root/nltk_data...\n",
            "       |   Unzipping tokenizers/punkt.zip.\n",
            "       | Downloading package book_grammars to /root/nltk_data...\n",
            "       |   Unzipping grammars/book_grammars.zip.\n",
            "       | Downloading package city_database to /root/nltk_data...\n",
            "       |   Unzipping corpora/city_database.zip.\n",
            "       | Downloading package tagsets to /root/nltk_data...\n",
            "       |   Unzipping help/tagsets.zip.\n",
            "       | Downloading package panlex_swadesh to /root/nltk_data...\n",
            "       | Downloading package averaged_perceptron_tagger to\n",
            "       |     /root/nltk_data...\n",
            "       |   Unzipping taggers/averaged_perceptron_tagger.zip.\n",
            "       | \n",
            "     Done downloading collection book\n",
            "\n",
            "---------------------------------------------------------------------------\n",
            "    d) Download   l) List    u) Update   c) Config   h) Help   q) Quit\n",
            "---------------------------------------------------------------------------\n",
            "Downloader> q\n"
          ],
          "name": "stdout"
        },
        {
          "output_type": "execute_result",
          "data": {
            "text/plain": [
              "True"
            ]
          },
          "metadata": {
            "tags": []
          },
          "execution_count": 8
        }
      ]
    },
    {
      "cell_type": "code",
      "metadata": {
        "id": "jkbPOY6LUV99",
        "colab_type": "code",
        "colab": {
          "base_uri": "https://localhost:8080/",
          "height": 238
        },
        "outputId": "899563ad-6402-47d9-80cc-993c5d438c9d"
      },
      "source": [
        "from nltk.book import *"
      ],
      "execution_count": 9,
      "outputs": [
        {
          "output_type": "stream",
          "text": [
            "*** Introductory Examples for the NLTK Book ***\n",
            "Loading text1, ..., text9 and sent1, ..., sent9\n",
            "Type the name of the text or sentence to view it.\n",
            "Type: 'texts()' or 'sents()' to list the materials.\n",
            "text1: Moby Dick by Herman Melville 1851\n",
            "text2: Sense and Sensibility by Jane Austen 1811\n",
            "text3: The Book of Genesis\n",
            "text4: Inaugural Address Corpus\n",
            "text5: Chat Corpus\n",
            "text6: Monty Python and the Holy Grail\n",
            "text7: Wall Street Journal\n",
            "text8: Personals Corpus\n",
            "text9: The Man Who Was Thursday by G . K . Chesterton 1908\n"
          ],
          "name": "stdout"
        }
      ]
    },
    {
      "cell_type": "code",
      "metadata": {
        "id": "TbHmKKAHVIiK",
        "colab_type": "code",
        "colab": {
          "base_uri": "https://localhost:8080/",
          "height": 34
        },
        "outputId": "4cef4287-3e8a-4c6f-84c5-d313427a5bea"
      },
      "source": [
        "text6"
      ],
      "execution_count": 10,
      "outputs": [
        {
          "output_type": "execute_result",
          "data": {
            "text/plain": [
              "<Text: Monty Python and the Holy Grail>"
            ]
          },
          "metadata": {
            "tags": []
          },
          "execution_count": 10
        }
      ]
    },
    {
      "cell_type": "code",
      "metadata": {
        "id": "uf8YJnlLVNsw",
        "colab_type": "code",
        "colab": {
          "base_uri": "https://localhost:8080/",
          "height": 221
        },
        "outputId": "b85d958b-683e-4af4-dbd5-653dd4a3dffd"
      },
      "source": [
        "text1.concordance(\"monstrous\")"
      ],
      "execution_count": 12,
      "outputs": [
        {
          "output_type": "stream",
          "text": [
            "Displaying 11 of 11 matches:\n",
            "ong the former , one was of a most monstrous size . ... This came towards us , \n",
            "ON OF THE PSALMS . \" Touching that monstrous bulk of the whale or ork we have r\n",
            "ll over with a heathenish array of monstrous clubs and spears . Some were thick\n",
            "d as you gazed , and wondered what monstrous cannibal and savage could ever hav\n",
            "that has survived the flood ; most monstrous and most mountainous ! That Himmal\n",
            "they might scout at Moby Dick as a monstrous fable , or still worse and more de\n",
            "th of Radney .'\" CHAPTER 55 Of the Monstrous Pictures of Whales . I shall ere l\n",
            "ing Scenes . In connexion with the monstrous pictures of whales , I am strongly\n",
            "ere to enter upon those still more monstrous stories of them which are to be fo\n",
            "ght have been rummaged out of this monstrous cabinet there is no telling . But \n",
            "of Whale - Bones ; for Whales of a monstrous size are oftentimes cast up dead u\n"
          ],
          "name": "stdout"
        }
      ]
    },
    {
      "cell_type": "code",
      "metadata": {
        "id": "P_79s2pgVSmw",
        "colab_type": "code",
        "colab": {
          "base_uri": "https://localhost:8080/",
          "height": 459
        },
        "outputId": "7a7ac73c-1e9b-4284-d093-7634249532f5"
      },
      "source": [
        "text5.concordance(\"lol\")"
      ],
      "execution_count": 14,
      "outputs": [
        {
          "output_type": "stream",
          "text": [
            "Displaying 25 of 822 matches:\n",
            "ast PART 24 / m boo . 26 / m and sexy lol U115 boo . JOIN PART he drew a girl w\n",
            "ope he didnt draw a penis PART ewwwww lol & a head between her legs JOIN JOIN s\n",
            "a bowl i got a blunt an a bong ...... lol JOIN well , glad it worked out my cha\n",
            "e \" PART Hi U121 in ny . ACTION would lol @ U121 . . . but appearently she does\n",
            "30 make sure u buy a nice ring for U6 lol U7 Hi U115 . ACTION isnt falling for \n",
            " didnt ya hear !!!! PART JOIN geeshhh lol U6 PART hes deaf ppl here dont get it\n",
            "es nobody here i wanna misbeahve with lol JOIN so read it . thanks U7 .. Im hap\n",
            "ies want to chat can i talk to him !! lol U121 !!! forwards too lol JOIN ALL PE\n",
            "k to him !! lol U121 !!! forwards too lol JOIN ALL PErvs ... redirect to U121 '\n",
            " loves ME the most i love myself JOIN lol U44 how do u know that what ? jerkett\n",
            "ng wrong ... i can see it in his eyes lol U20 = fiance Jerketts lmao wtf yah I \n",
            "cooler by the minute what 'd I miss ? lol noo there too much work ! why not ?? \n",
            " that mean I want you ? U6 hello room lol U83 and this .. has been the grammar \n",
            " the rule he 's in PM land now though lol ah ok i wont bug em then someone wann\n",
            "flight to hell :) lmao bbl maybe PART LOL lol U7 it was me , U83 hahah U83 ! 80\n",
            "ht to hell :) lmao bbl maybe PART LOL lol U7 it was me , U83 hahah U83 ! 808265\n",
            "082653953 K-Fed got his ass kicked .. Lol . ACTION laughs . i got a first class\n",
            " . i got a first class ticket to hell lol U7 JOIN any texas girls in here ? any\n",
            " . whats up U155 i was only kidding . lol he 's a douchebag . Poor U121 i 'm bo\n",
            " ??? sits with U30 Cum to my shower . lol U121 . ACTION U1370 watches his nads \n",
            " ur nad with a stick . ca u U23 ewwww lol *sniffs* ewwwwww PART U115 ! owww spl\n",
            "ACTION is resisting . ur female right lol U115 beeeeehave Remember the LAst tim\n",
            "pm's me . charge that is 1.99 / min . lol @ innocent hahah lol .... yeah LOLOLO\n",
            " is 1.99 / min . lol @ innocent hahah lol .... yeah LOLOLOLLL U12 thats not nic\n",
            "s . lmao no U115 Check my record . :) Lol lick em U7 U23 how old r u lol Way to\n"
          ],
          "name": "stdout"
        }
      ]
    },
    {
      "cell_type": "code",
      "metadata": {
        "id": "mzT-fZe4VluF",
        "colab_type": "code",
        "colab": {
          "base_uri": "https://localhost:8080/",
          "height": 68
        },
        "outputId": "5c697cee-940d-4b8f-d1c5-3ca803c174d0"
      },
      "source": [
        "text1.similar(\"monstrous\")"
      ],
      "execution_count": 15,
      "outputs": [
        {
          "output_type": "stream",
          "text": [
            "true contemptible christian abundant few part mean careful puzzled\n",
            "mystifying passing curious loving wise doleful gamesome singular\n",
            "delightfully perilous fearless\n"
          ],
          "name": "stdout"
        }
      ]
    },
    {
      "cell_type": "code",
      "metadata": {
        "id": "OKXf1vNTV1zs",
        "colab_type": "code",
        "colab": {
          "base_uri": "https://localhost:8080/",
          "height": 51
        },
        "outputId": "9536f278-d41f-467f-8a7c-88a6e3d3cd75"
      },
      "source": [
        "text2.similar(\"monstrous\")"
      ],
      "execution_count": 16,
      "outputs": [
        {
          "output_type": "stream",
          "text": [
            "very so exceedingly heartily a as good great extremely remarkably\n",
            "sweet vast amazingly\n"
          ],
          "name": "stdout"
        }
      ]
    },
    {
      "cell_type": "code",
      "metadata": {
        "id": "8v1mSuxCV_w3",
        "colab_type": "code",
        "colab": {
          "base_uri": "https://localhost:8080/",
          "height": 34
        },
        "outputId": "22483c3c-d645-4dc4-a71d-5d46ed09575f"
      },
      "source": [
        "text2.common_contexts([\"monstrous\", \"great\"])"
      ],
      "execution_count": 18,
      "outputs": [
        {
          "output_type": "stream",
          "text": [
            "a_deal\n"
          ],
          "name": "stdout"
        }
      ]
    },
    {
      "cell_type": "code",
      "metadata": {
        "id": "D5HNYqESWKR2",
        "colab_type": "code",
        "colab": {
          "base_uri": "https://localhost:8080/",
          "height": 295
        },
        "outputId": "59208f07-96b3-4e60-d089-87cf29c63bad"
      },
      "source": [
        "text1.dispersion_plot([\"Moby\", \"Ishmael\"])"
      ],
      "execution_count": 20,
      "outputs": [
        {
          "output_type": "display_data",
          "data": {
            "image/png": "[encoded data removed]",
            "text/plain": [
              "<Figure size 432x288 with 1 Axes>"
            ]
          },
          "metadata": {
            "tags": [],
            "needs_background": "light"
          }
        }
      ]
    },
    {
      "cell_type": "code",
      "metadata": {
        "id": "AqURR4SHWnYh",
        "colab_type": "code",
        "colab": {}
      },
      "source": [
        "text6.generate([\"yes\"])"
      ],
      "execution_count": 23,
      "outputs": []
    },
    {
      "cell_type": "code",
      "metadata": {
        "id": "87Fu8W3ZXOHt",
        "colab_type": "code",
        "colab": {
          "base_uri": "https://localhost:8080/",
          "height": 34
        },
        "outputId": "7d706f71-a88f-4067-8921-a9d388821b2f"
      },
      "source": [
        "len(text3)"
      ],
      "execution_count": 24,
      "outputs": [
        {
          "output_type": "execute_result",
          "data": {
            "text/plain": [
              "44764"
            ]
          },
          "metadata": {
            "tags": []
          },
          "execution_count": 24
        }
      ]
    },
    {
      "cell_type": "code",
      "metadata": {
        "id": "ovs16peoX4mE",
        "colab_type": "code",
        "colab": {
          "base_uri": "https://localhost:8080/",
          "height": 34
        },
        "outputId": "15d4f624-42a5-404e-cc1a-bdec23ff87b8"
      },
      "source": [
        "len(set(text3))/len(text3)"
      ],
      "execution_count": 25,
      "outputs": [
        {
          "output_type": "execute_result",
          "data": {
            "text/plain": [
              "0.06230453042623537"
            ]
          },
          "metadata": {
            "tags": []
          },
          "execution_count": 25
        }
      ]
    },
    {
      "cell_type": "markdown",
      "metadata": {
        "id": "zt-RIcZYX_LG",
        "colab_type": "text"
      },
      "source": [
        "Same words are used 16 times in the Book of Genesis. "
      ]
    },
    {
      "cell_type": "code",
      "metadata": {
        "id": "Y7ZZ-_02YCag",
        "colab_type": "code",
        "colab": {
          "base_uri": "https://localhost:8080/",
          "height": 34
        },
        "outputId": "1a88b06a-b86f-4116-8c10-90db9fe88d33"
      },
      "source": [
        "text3.count(\"God\")/len(text3) * 100"
      ],
      "execution_count": 26,
      "outputs": [
        {
          "output_type": "execute_result",
          "data": {
            "text/plain": [
              "0.5160396747386293"
            ]
          },
          "metadata": {
            "tags": []
          },
          "execution_count": 26
        }
      ]
    },
    {
      "cell_type": "markdown",
      "metadata": {
        "id": "XvtnyC0RYJ6w",
        "colab_type": "text"
      },
      "source": [
        "God takes up 50% of the text."
      ]
    },
    {
      "cell_type": "code",
      "metadata": {
        "id": "YjamlDU8YS_u",
        "colab_type": "code",
        "colab": {
          "base_uri": "https://localhost:8080/",
          "height": 272
        },
        "outputId": "392f6b95-6b9d-4154-e56b-1871b9fc163c"
      },
      "source": [
        "sent1 + sent2"
      ],
      "execution_count": 29,
      "outputs": [
        {
          "output_type": "execute_result",
          "data": {
            "text/plain": [
              "['Call',\n",
              " 'me',\n",
              " 'Ishmael',\n",
              " '.',\n",
              " 'The',\n",
              " 'family',\n",
              " 'of',\n",
              " 'Dashwood',\n",
              " 'had',\n",
              " 'long',\n",
              " 'been',\n",
              " 'settled',\n",
              " 'in',\n",
              " 'Sussex',\n",
              " '.']"
            ]
          },
          "metadata": {
            "tags": []
          },
          "execution_count": 29
        }
      ]
    },
    {
      "cell_type": "code",
      "metadata": {
        "id": "tvZSl82ofggR",
        "colab_type": "code",
        "colab": {
          "base_uri": "https://localhost:8080/",
          "height": 867
        },
        "outputId": "aa0dd762-af3f-490f-d312-ed82945127b4"
      },
      "source": [
        "fdist1 = FreqDist(text1)\n",
        "fdist1.most_common(50)"
      ],
      "execution_count": 31,
      "outputs": [
        {
          "output_type": "execute_result",
          "data": {
            "text/plain": [
              "[(',', 18713),\n",
              " ('the', 13721),\n",
              " ('.', 6862),\n",
              " ('of', 6536),\n",
              " ('and', 6024),\n",
              " ('a', 4569),\n",
              " ('to', 4542),\n",
              " (';', 4072),\n",
              " ('in', 3916),\n",
              " ('that', 2982),\n",
              " (\"'\", 2684),\n",
              " ('-', 2552),\n",
              " ('his', 2459),\n",
              " ('it', 2209),\n",
              " ('I', 2124),\n",
              " ('s', 1739),\n",
              " ('is', 1695),\n",
              " ('he', 1661),\n",
              " ('with', 1659),\n",
              " ('was', 1632),\n",
              " ('as', 1620),\n",
              " ('\"', 1478),\n",
              " ('all', 1462),\n",
              " ('for', 1414),\n",
              " ('this', 1280),\n",
              " ('!', 1269),\n",
              " ('at', 1231),\n",
              " ('by', 1137),\n",
              " ('but', 1113),\n",
              " ('not', 1103),\n",
              " ('--', 1070),\n",
              " ('him', 1058),\n",
              " ('from', 1052),\n",
              " ('be', 1030),\n",
              " ('on', 1005),\n",
              " ('so', 918),\n",
              " ('whale', 906),\n",
              " ('one', 889),\n",
              " ('you', 841),\n",
              " ('had', 767),\n",
              " ('have', 760),\n",
              " ('there', 715),\n",
              " ('But', 705),\n",
              " ('or', 697),\n",
              " ('were', 680),\n",
              " ('now', 646),\n",
              " ('which', 640),\n",
              " ('?', 637),\n",
              " ('me', 627),\n",
              " ('like', 624)]"
            ]
          },
          "metadata": {
            "tags": []
          },
          "execution_count": 31
        }
      ]
    },
    {
      "cell_type": "code",
      "metadata": {
        "id": "rUC_bITMf2jw",
        "colab_type": "code",
        "colab": {
          "base_uri": "https://localhost:8080/",
          "height": 299
        },
        "outputId": "b142f2f2-be4b-40a5-d6f0-2a3e7230ff85"
      },
      "source": [
        "fdist1.plot(50, cumulative=True)"
      ],
      "execution_count": 34,
      "outputs": [
        {
          "output_type": "display_data",
          "data": {
            "image/png": "[encoded data removed]",
            "text/plain": [
              "<Figure size 432x288 with 1 Axes>"
            ]
          },
          "metadata": {
            "tags": [],
            "needs_background": "light"
          }
        }
      ]
    },
    {
      "cell_type": "code",
      "metadata": {
        "id": "Oh_xsPmigFWG",
        "colab_type": "code",
        "colab": {
          "base_uri": "https://localhost:8080/",
          "height": 187
        },
        "outputId": "53b7b831-fc3e-428e-91ce-1f9d11a5ea15"
      },
      "source": [
        "fdist1.hapaxes()[:10]"
      ],
      "execution_count": 36,
      "outputs": [
        {
          "output_type": "execute_result",
          "data": {
            "text/plain": [
              "['Herman',\n",
              " 'Melville',\n",
              " ']',\n",
              " 'ETYMOLOGY',\n",
              " 'Late',\n",
              " 'Consumptive',\n",
              " 'School',\n",
              " 'threadbare',\n",
              " 'lexicons',\n",
              " 'mockingly']"
            ]
          },
          "metadata": {
            "tags": []
          },
          "execution_count": 36
        }
      ]
    },
    {
      "cell_type": "code",
      "metadata": {
        "id": "w6KVqzPJgZ1a",
        "colab_type": "code",
        "colab": {
          "base_uri": "https://localhost:8080/",
          "height": 1000
        },
        "outputId": "64437469-610e-4cc5-9abc-aaa712939cd0"
      },
      "source": [
        "V = set(text1)\n",
        "long_words = [w for w in V if len(w) > 7 and fdist1[w] > 7]\n",
        "sorted(long_words)"
      ],
      "execution_count": 38,
      "outputs": [
        {
          "output_type": "execute_result",
          "data": {
            "text/plain": [
              "['American',\n",
              " 'Atlantic',\n",
              " 'Bulkington',\n",
              " 'Canallers',\n",
              " 'Christian',\n",
              " 'Commodore',\n",
              " 'Consider',\n",
              " 'Fedallah',\n",
              " 'Greenland',\n",
              " 'Guernsey',\n",
              " 'Heidelburgh',\n",
              " 'Japanese',\n",
              " 'Jeroboam',\n",
              " 'Leviathan',\n",
              " 'Meantime',\n",
              " 'Meanwhile',\n",
              " 'Mediterranean',\n",
              " 'Moreover',\n",
              " 'NANTUCKET',\n",
              " 'Nantucket',\n",
              " 'Nantucketer',\n",
              " 'Nantucketers',\n",
              " 'Nevertheless',\n",
              " 'Porpoise',\n",
              " 'Queequeg',\n",
              " 'Scoresby',\n",
              " 'Sebastian',\n",
              " 'Starbuck',\n",
              " 'Steelkilt',\n",
              " 'Tashtego',\n",
              " 'Therefore',\n",
              " 'Wherefore',\n",
              " 'abounding',\n",
              " 'according',\n",
              " 'accounted',\n",
              " 'accounts',\n",
              " 'accursed',\n",
              " 'activity',\n",
              " 'actually',\n",
              " 'additional',\n",
              " 'advanced',\n",
              " 'advancing',\n",
              " 'afternoon',\n",
              " 'afterwards',\n",
              " 'alongside',\n",
              " 'altogether',\n",
              " 'ambergris',\n",
              " 'answered',\n",
              " 'anything',\n",
              " 'anywhere',\n",
              " 'appalling',\n",
              " 'apparently',\n",
              " 'apparition',\n",
              " 'appearance',\n",
              " 'appeared',\n",
              " 'approaching',\n",
              " 'archangel',\n",
              " 'articles',\n",
              " 'attached',\n",
              " 'attention',\n",
              " 'authority',\n",
              " 'backward',\n",
              " 'barbaric',\n",
              " 'beautiful',\n",
              " 'beginning',\n",
              " 'beholding',\n",
              " 'belonged',\n",
              " 'belonging',\n",
              " 'bestowed',\n",
              " 'binnacle',\n",
              " 'blackness',\n",
              " 'blacksmith',\n",
              " 'bowsprit',\n",
              " 'breakfast',\n",
              " 'breaking',\n",
              " 'bringing',\n",
              " 'bulwarks',\n",
              " 'bursting',\n",
              " 'business',\n",
              " 'cannibal',\n",
              " 'cannibals',\n",
              " 'captains',\n",
              " 'captured',\n",
              " 'carefully',\n",
              " 'carpenter',\n",
              " 'carrying',\n",
              " 'centuries',\n",
              " 'certainly',\n",
              " 'character',\n",
              " 'children',\n",
              " 'circumstance',\n",
              " 'circumstances',\n",
              " 'civilized',\n",
              " 'clinging',\n",
              " 'coloured',\n",
              " 'combined',\n",
              " 'comfortable',\n",
              " 'commanded',\n",
              " 'commander',\n",
              " 'commotion',\n",
              " 'comparatively',\n",
              " 'compared',\n",
              " 'compasses',\n",
              " 'complete',\n",
              " 'completely',\n",
              " 'comrades',\n",
              " 'concerned',\n",
              " 'concerning',\n",
              " 'conclude',\n",
              " 'concluded',\n",
              " 'concluding',\n",
              " 'confidential',\n",
              " 'connected',\n",
              " 'connexion',\n",
              " 'conscience',\n",
              " 'conscious',\n",
              " 'consider',\n",
              " 'considerable',\n",
              " 'considerably',\n",
              " 'consideration',\n",
              " 'considered',\n",
              " 'considering',\n",
              " 'consternation',\n",
              " 'containing',\n",
              " 'continual',\n",
              " 'continually',\n",
              " 'continued',\n",
              " 'contrary',\n",
              " 'contrast',\n",
              " 'contrasting',\n",
              " 'contrivances',\n",
              " 'convenient',\n",
              " 'countenance',\n",
              " 'creature',\n",
              " 'creatures',\n",
              " 'critical',\n",
              " 'crossing',\n",
              " 'cruising',\n",
              " 'curiosity',\n",
              " 'customary',\n",
              " 'dangerous',\n",
              " 'darkness',\n",
              " 'daylight',\n",
              " 'declared',\n",
              " 'demanded',\n",
              " 'departed',\n",
              " 'descending',\n",
              " 'described',\n",
              " 'descried',\n",
              " 'desperate',\n",
              " 'destroyed',\n",
              " 'detached',\n",
              " 'devilish',\n",
              " 'difference',\n",
              " 'different',\n",
              " 'direction',\n",
              " 'directions',\n",
              " 'directly',\n",
              " 'disappeared',\n",
              " 'discovered',\n",
              " 'discovery',\n",
              " 'distance',\n",
              " 'distinct',\n",
              " 'distinctly',\n",
              " 'domestic',\n",
              " 'doubloon',\n",
              " 'doubtless',\n",
              " 'downward',\n",
              " 'downwards',\n",
              " 'dripping',\n",
              " 'dropping',\n",
              " 'eagerness',\n",
              " 'eastward',\n",
              " 'elements',\n",
              " 'elephant',\n",
              " 'elephants',\n",
              " 'elevated',\n",
              " 'elsewhere',\n",
              " 'employed',\n",
              " 'enchanted',\n",
              " 'encounter',\n",
              " 'encountered',\n",
              " 'enormous',\n",
              " 'entirely',\n",
              " 'entitled',\n",
              " 'especially',\n",
              " 'eventually',\n",
              " 'everlasting',\n",
              " 'everything',\n",
              " 'exceeding',\n",
              " 'exceedingly',\n",
              " 'excellent',\n",
              " 'exclaimed',\n",
              " 'experience',\n",
              " 'experienced',\n",
              " 'expression',\n",
              " 'external',\n",
              " 'extremity',\n",
              " 'fashioned',\n",
              " 'fastened',\n",
              " 'fearless',\n",
              " 'features',\n",
              " 'fishermen',\n",
              " 'floating',\n",
              " 'followed',\n",
              " 'following',\n",
              " 'forecastle',\n",
              " 'forehead',\n",
              " 'foremost',\n",
              " 'forgotten',\n",
              " 'fountain',\n",
              " 'freighted',\n",
              " 'frequently',\n",
              " 'furnished',\n",
              " 'generally',\n",
              " 'gentleman',\n",
              " 'gentlemen',\n",
              " 'gigantic',\n",
              " 'glancing',\n",
              " 'glittering',\n",
              " 'gradually',\n",
              " 'grandeur',\n",
              " 'greatest',\n",
              " 'grinning',\n",
              " 'gunwales',\n",
              " 'hammered',\n",
              " 'happened',\n",
              " 'harpooned',\n",
              " 'harpooneer',\n",
              " 'harpooneers',\n",
              " 'harpoons',\n",
              " 'headsman',\n",
              " 'helmsman',\n",
              " 'hereafter',\n",
              " 'historical',\n",
              " 'hitherto',\n",
              " 'hoisting',\n",
              " 'hopeless',\n",
              " 'horizontal',\n",
              " 'horrible',\n",
              " 'hovering',\n",
              " 'hundreds',\n",
              " 'ignorance',\n",
              " 'ignorant',\n",
              " 'immediately',\n",
              " 'immortal',\n",
              " 'imperial',\n",
              " 'important',\n",
              " 'impossible',\n",
              " 'impressions',\n",
              " 'inclined',\n",
              " 'included',\n",
              " 'including',\n",
              " 'incredible',\n",
              " 'independent',\n",
              " 'indifferent',\n",
              " 'indirectly',\n",
              " 'indispensable',\n",
              " 'individual',\n",
              " 'infallibly',\n",
              " 'inferior',\n",
              " 'infernal',\n",
              " 'infinite',\n",
              " 'influence',\n",
              " 'inscrutable',\n",
              " 'inserted',\n",
              " 'instance',\n",
              " 'instances',\n",
              " 'instantly',\n",
              " 'instinct',\n",
              " 'intended',\n",
              " 'intensity',\n",
              " 'intention',\n",
              " 'intently',\n",
              " 'interest',\n",
              " 'interesting',\n",
              " 'interior',\n",
              " 'interval',\n",
              " 'intervals',\n",
              " 'intolerable',\n",
              " 'invariably',\n",
              " 'invested',\n",
              " 'invisible',\n",
              " 'involuntarily',\n",
              " 'involved',\n",
              " 'judgment',\n",
              " 'knowledge',\n",
              " 'landlord',\n",
              " 'landsman',\n",
              " 'landsmen',\n",
              " 'larboard',\n",
              " 'latitude',\n",
              " 'latitudes',\n",
              " 'lengthwise',\n",
              " 'levelled',\n",
              " 'leviathan',\n",
              " 'leviathans',\n",
              " 'lightning',\n",
              " 'likewise',\n",
              " 'lingering',\n",
              " 'lowering',\n",
              " 'magnitude',\n",
              " 'mainmast',\n",
              " 'malicious',\n",
              " 'mariners',\n",
              " 'marvellous',\n",
              " 'material',\n",
              " 'meanwhile',\n",
              " 'measureless',\n",
              " 'mechanically',\n",
              " 'melancholy',\n",
              " 'mentioned',\n",
              " 'merchant',\n",
              " 'midnight',\n",
              " 'miserable',\n",
              " 'mistaken',\n",
              " 'monomaniac',\n",
              " 'monsters',\n",
              " 'monstrous',\n",
              " 'moonlight',\n",
              " 'moreover',\n",
              " 'motionless',\n",
              " 'mountain',\n",
              " 'mountains',\n",
              " 'movement',\n",
              " 'murderous',\n",
              " 'murmured',\n",
              " 'muttered',\n",
              " 'mysterious',\n",
              " 'mystical',\n",
              " 'nameless',\n",
              " 'narrative',\n",
              " 'naturalists',\n",
              " 'naturally',\n",
              " 'nevertheless',\n",
              " 'numerous',\n",
              " 'obedience',\n",
              " 'obliquely',\n",
              " 'observed',\n",
              " 'observing',\n",
              " 'occasion',\n",
              " 'occasional',\n",
              " 'occasionally',\n",
              " 'occupied',\n",
              " 'occurred',\n",
              " 'officers',\n",
              " 'operation',\n",
              " 'opposite',\n",
              " 'ordinary',\n",
              " 'original',\n",
              " 'originally',\n",
              " 'otherwise',\n",
              " 'ourselves',\n",
              " 'overboard',\n",
              " 'particular',\n",
              " 'particularly',\n",
              " 'particulars',\n",
              " 'peculiar',\n",
              " 'peculiarities',\n",
              " 'perceive',\n",
              " 'perceived',\n",
              " 'perilous',\n",
              " 'perpendicular',\n",
              " 'perpendicularly',\n",
              " 'phantoms',\n",
              " 'pictures',\n",
              " 'pleasant',\n",
              " 'pointing',\n",
              " 'ponderous',\n",
              " 'popularly',\n",
              " 'position',\n",
              " 'possession',\n",
              " 'possible',\n",
              " 'possibly',\n",
              " 'practical',\n",
              " 'precious',\n",
              " 'precisely',\n",
              " 'preliminary',\n",
              " 'prepared',\n",
              " 'presented',\n",
              " 'presently',\n",
              " 'presumed',\n",
              " 'previous',\n",
              " 'previously',\n",
              " 'principle',\n",
              " 'probably',\n",
              " 'proceeds',\n",
              " 'prodigious',\n",
              " 'profound',\n",
              " 'projecting',\n",
              " 'prolonged',\n",
              " 'properly',\n",
              " 'published',\n",
              " 'quantity',\n",
              " 'question',\n",
              " 'reaching',\n",
              " 'reasonable',\n",
              " 'received',\n",
              " 'receiving',\n",
              " 'recognised',\n",
              " 'reference',\n",
              " 'regarded',\n",
              " 'regularly',\n",
              " 'relieved',\n",
              " 'remained',\n",
              " 'remaining',\n",
              " 'remarkable',\n",
              " 'remember',\n",
              " 'remotest',\n",
              " 'repeated',\n",
              " 'reserved',\n",
              " 'resolved',\n",
              " 'respects',\n",
              " 'retained',\n",
              " 'returned',\n",
              " 'revealed',\n",
              " 'revolving',\n",
              " 'scarcely',\n",
              " 'scattered',\n",
              " 'scientific',\n",
              " 'seemingly',\n",
              " 'sensible',\n",
              " 'separate',\n",
              " 'shipmate',\n",
              " 'shipmates',\n",
              " 'shoulder',\n",
              " 'shoulders',\n",
              " 'shuddering',\n",
              " 'sideways',\n",
              " 'significant',\n",
              " 'silently',\n",
              " 'simultaneously',\n",
              " 'singular',\n",
              " 'skeleton',\n",
              " 'sleeping',\n",
              " 'slightest',\n",
              " 'slightly',\n",
              " 'slouched',\n",
              " 'smallest',\n",
              " 'snatching',\n",
              " 'solemnly',\n",
              " 'solitary',\n",
              " 'something',\n",
              " 'sometimes',\n",
              " 'somewhat',\n",
              " 'somewhere',\n",
              " 'sounding',\n",
              " 'sparkling',\n",
              " 'speaking',\n",
              " 'specially',\n",
              " 'specific',\n",
              " 'spermaceti',\n",
              " 'spiritual',\n",
              " 'spouting',\n",
              " 'standing',\n",
              " 'starboard',\n",
              " 'starting',\n",
              " 'steadily',\n",
              " 'steering',\n",
              " 'stopping',\n",
              " 'straight',\n",
              " 'straightway',\n",
              " 'strained',\n",
              " 'stranded',\n",
              " 'strangely',\n",
              " 'stranger',\n",
              " 'strength',\n",
              " 'stretched',\n",
              " 'stricken',\n",
              " 'striking',\n",
              " 'stripped',\n",
              " 'striving',\n",
              " 'strongly',\n",
              " 'submerged',\n",
              " 'subsequent',\n",
              " 'substance',\n",
              " 'succeeded',\n",
              " 'suddenly',\n",
              " 'sufficiently',\n",
              " 'superior',\n",
              " 'superstitious',\n",
              " 'supplied',\n",
              " 'supposed',\n",
              " 'surprise',\n",
              " 'surrounded',\n",
              " 'suspended',\n",
              " 'swallowed',\n",
              " 'sweeping',\n",
              " 'swimming',\n",
              " 'swinging',\n",
              " 'taffrail',\n",
              " 'tambourine',\n",
              " 'tapering',\n",
              " 'tattooed',\n",
              " 'temporarily',\n",
              " 'temporary',\n",
              " 'terrible',\n",
              " 'terrific',\n",
              " 'themselves',\n",
              " 'therefore',\n",
              " 'thinking',\n",
              " 'thoughts',\n",
              " 'thousand',\n",
              " 'thousands',\n",
              " 'throughout',\n",
              " 'throwing',\n",
              " 'thrusting',\n",
              " 'together',\n",
              " 'tomahawk',\n",
              " 'tormented',\n",
              " 'touching',\n",
              " 'traditions',\n",
              " 'transparent',\n",
              " 'traveller',\n",
              " 'tremendous',\n",
              " 'troubled',\n",
              " 'trowsers',\n",
              " 'tumultuous',\n",
              " 'unaccountable',\n",
              " 'uncertain',\n",
              " 'uncommon',\n",
              " 'understand',\n",
              " 'unearthly',\n",
              " 'universal',\n",
              " 'unnatural',\n",
              " 'unspeakable',\n",
              " 'uplifted',\n",
              " 'valuable',\n",
              " 'velocity',\n",
              " 'venerable',\n",
              " 'vengeance',\n",
              " 'vertebrae',\n",
              " 'vicinity',\n",
              " 'vigorous',\n",
              " 'violently',\n",
              " 'vitality',\n",
              " 'vocation',\n",
              " 'watching',\n",
              " 'whalebone',\n",
              " 'whaleman',\n",
              " 'whalemen',\n",
              " 'whatever',\n",
              " 'whenever',\n",
              " 'whispered',\n",
              " 'whiteness',\n",
              " 'windlass',\n",
              " 'windward',\n",
              " 'withdrawing',\n",
              " 'withstand',\n",
              " 'wonderful',\n",
              " 'wondrous',\n",
              " 'wrinkled',\n",
              " 'wrinkles',\n",
              " 'yesterday',\n",
              " 'yourself']"
            ]
          },
          "metadata": {
            "tags": []
          },
          "execution_count": 38
        }
      ]
    },
    {
      "cell_type": "code",
      "metadata": {
        "id": "wa5kmDAphi3N",
        "colab_type": "code",
        "colab": {
          "base_uri": "https://localhost:8080/",
          "height": 85
        },
        "outputId": "8d27a0ea-f368-4e91-f243-e9ba3ea3df18"
      },
      "source": [
        "text1.collocations()"
      ],
      "execution_count": 39,
      "outputs": [
        {
          "output_type": "stream",
          "text": [
            "Sperm Whale; Moby Dick; White Whale; old man; Captain Ahab; sperm\n",
            "whale; Right Whale; Captain Peleg; New Bedford; Cape Horn; cried Ahab;\n",
            "years ago; lower jaw; never mind; Father Mapple; cried Stubb; chief\n",
            "mate; white whale; ivory leg; one hand\n"
          ],
          "name": "stdout"
        }
      ]
    },
    {
      "cell_type": "code",
      "metadata": {
        "id": "k5aLU26ptNZ_",
        "colab_type": "code",
        "colab": {
          "base_uri": "https://localhost:8080/",
          "height": 323
        },
        "outputId": "2afb01ef-1d88-4282-a6a0-15be403023da"
      },
      "source": [
        "nltk.corpus.gutenberg.fileids()"
      ],
      "execution_count": 41,
      "outputs": [
        {
          "output_type": "execute_result",
          "data": {
            "text/plain": [
              "['austen-emma.txt',\n",
              " 'austen-persuasion.txt',\n",
              " 'austen-sense.txt',\n",
              " 'bible-kjv.txt',\n",
              " 'blake-poems.txt',\n",
              " 'bryant-stories.txt',\n",
              " 'burgess-busterbrown.txt',\n",
              " 'carroll-alice.txt',\n",
              " 'chesterton-ball.txt',\n",
              " 'chesterton-brown.txt',\n",
              " 'chesterton-thursday.txt',\n",
              " 'edgeworth-parents.txt',\n",
              " 'melville-moby_dick.txt',\n",
              " 'milton-paradise.txt',\n",
              " 'shakespeare-caesar.txt',\n",
              " 'shakespeare-hamlet.txt',\n",
              " 'shakespeare-macbeth.txt',\n",
              " 'whitman-leaves.txt']"
            ]
          },
          "metadata": {
            "tags": []
          },
          "execution_count": 41
        }
      ]
    },
    {
      "cell_type": "code",
      "metadata": {
        "id": "teqjW2bRht_n",
        "colab_type": "code",
        "colab": {}
      },
      "source": [
        "emma = nltk.corpus.gutenberg.words('austen-emma.txt')"
      ],
      "execution_count": 40,
      "outputs": []
    },
    {
      "cell_type": "code",
      "metadata": {
        "id": "uiA09FAZtQl1",
        "colab_type": "code",
        "colab": {}
      },
      "source": [
        "from nltk.corpus import brown\n",
        "cfd = nltk.ConditionalFreqDist((genre, word) for genre in brown.categories() for word in brown.words(categories=genre))"
      ],
      "execution_count": 43,
      "outputs": []
    },
    {
      "cell_type": "code",
      "metadata": {
        "id": "wZzSlruWusb4",
        "colab_type": "code",
        "colab": {
          "base_uri": "https://localhost:8080/",
          "height": 289
        },
        "outputId": "09427627-083c-49e3-f65f-1071396baba5"
      },
      "source": [
        "genres = ['news', 'religion', 'romance']\n",
        "modals = ['can', 'could', 'may']\n",
        "cfd.tabulate(condition=genres, samples = modals)"
      ],
      "execution_count": 45,
      "outputs": [
        {
          "output_type": "stream",
          "text": [
            "                  can could   may \n",
            "      adventure    46   151     5 \n",
            " belles_lettres   246   213   207 \n",
            "      editorial   121    56    74 \n",
            "        fiction    37   166     8 \n",
            "     government   117    38   153 \n",
            "        hobbies   268    58   131 \n",
            "          humor    16    30     8 \n",
            "        learned   365   159   324 \n",
            "           lore   170   141   165 \n",
            "        mystery    42   141    13 \n",
            "           news    93    86    66 \n",
            "       religion    82    59    78 \n",
            "        reviews    45    40    45 \n",
            "        romance    74   193    11 \n",
            "science_fiction    16    49     4 \n"
          ],
          "name": "stdout"
        }
      ]
    },
    {
      "cell_type": "markdown",
      "metadata": {
        "id": "PRuWaqVVkKhb",
        "colab_type": "text"
      },
      "source": [
        "Plotting the occurrence of words starting with america and citizen in presidential inaugural speeches. "
      ]
    },
    {
      "cell_type": "code",
      "metadata": {
        "id": "I8cCv-JKi8lq",
        "colab_type": "code",
        "colab": {
          "base_uri": "https://localhost:8080/",
          "height": 68
        },
        "outputId": "6b19fe91-3ff3-41b5-d6e3-a689a5cef965"
      },
      "source": [
        "\n",
        "import nltk\n",
        "nltk.download(\"inaugural\")\n"
      ],
      "execution_count": 6,
      "outputs": [
        {
          "output_type": "stream",
          "text": [
            "[nltk_data] Downloading package inaugural to /root/nltk_data...\n",
            "[nltk_data]   Unzipping corpora/inaugural.zip.\n"
          ],
          "name": "stdout"
        },
        {
          "output_type": "execute_result",
          "data": {
            "text/plain": [
              "True"
            ]
          },
          "metadata": {
            "tags": []
          },
          "execution_count": 6
        }
      ]
    },
    {
      "cell_type": "code",
      "metadata": {
        "id": "IN9mlKl4jPx2",
        "colab_type": "code",
        "colab": {
          "base_uri": "https://localhost:8080/",
          "height": 35
        },
        "outputId": "a62fd773-6476-49a2-80ec-676180e9ece5"
      },
      "source": [
        "from nltk.corpus import inaugural\n",
        "inaugural.fileids()[0][:4] # year of the address"
      ],
      "execution_count": 11,
      "outputs": [
        {
          "output_type": "execute_result",
          "data": {
            "application/vnd.google.colaboratory.intrinsic+json": {
              "type": "string"
            },
            "text/plain": [
              "'1789'"
            ]
          },
          "metadata": {
            "tags": []
          },
          "execution_count": 11
        }
      ]
    },
    {
      "cell_type": "code",
      "metadata": {
        "id": "YNNIwmDijVae",
        "colab_type": "code",
        "colab": {
          "base_uri": "https://localhost:8080/",
          "height": 1000
        },
        "outputId": "ea9a152f-23f4-4b0f-c51f-8a1951a993d9"
      },
      "source": [
        "[fileid[:4] for fileid in inaugural.fileids()]"
      ],
      "execution_count": 8,
      "outputs": [
        {
          "output_type": "execute_result",
          "data": {
            "text/plain": [
              "['1789',\n",
              " '1793',\n",
              " '1797',\n",
              " '1801',\n",
              " '1805',\n",
              " '1809',\n",
              " '1813',\n",
              " '1817',\n",
              " '1821',\n",
              " '1825',\n",
              " '1829',\n",
              " '1833',\n",
              " '1837',\n",
              " '1841',\n",
              " '1845',\n",
              " '1849',\n",
              " '1853',\n",
              " '1857',\n",
              " '1861',\n",
              " '1865',\n",
              " '1869',\n",
              " '1873',\n",
              " '1877',\n",
              " '1881',\n",
              " '1885',\n",
              " '1889',\n",
              " '1893',\n",
              " '1897',\n",
              " '1901',\n",
              " '1905',\n",
              " '1909',\n",
              " '1913',\n",
              " '1917',\n",
              " '1921',\n",
              " '1925',\n",
              " '1929',\n",
              " '1933',\n",
              " '1937',\n",
              " '1941',\n",
              " '1945',\n",
              " '1949',\n",
              " '1953',\n",
              " '1957',\n",
              " '1961',\n",
              " '1965',\n",
              " '1969',\n",
              " '1973',\n",
              " '1977',\n",
              " '1981',\n",
              " '1985',\n",
              " '1989',\n",
              " '1993',\n",
              " '1997',\n",
              " '2001',\n",
              " '2005',\n",
              " '2009',\n",
              " '2013',\n",
              " '2017']"
            ]
          },
          "metadata": {
            "tags": []
          },
          "execution_count": 8
        }
      ]
    },
    {
      "cell_type": "code",
      "metadata": {
        "id": "v98CGODKjip8",
        "colab_type": "code",
        "colab": {}
      },
      "source": [
        "cfd = nltk.ConditionalFreqDist(\n",
        "\t\t\t\t\t\t\t(target, fileid[:4])\n",
        "\t\t\t\t\t\t\tfor fileid in inaugural.fileids()\n",
        "\t\t\t\t\t\t\tfor w in inaugural.words(fileid)\n",
        "              for target in ['america', 'citizen']\n",
        "              if w.lower().startswith(target))"
      ],
      "execution_count": 12,
      "outputs": []
    },
    {
      "cell_type": "code",
      "metadata": {
        "id": "05zX4xonjx8t",
        "colab_type": "code",
        "colab": {
          "base_uri": "https://localhost:8080/",
          "height": 295
        },
        "outputId": "19275cfc-dd67-46e5-99a4-ae6cb154ec2d"
      },
      "source": [
        "cfd.plot()"
      ],
      "execution_count": 15,
      "outputs": [
        {
          "output_type": "display_data",
          "data": {
            "image/png": "[encoded data removed]",
            "text/plain": [
              "<Figure size 432x288 with 1 Axes>"
            ]
          },
          "metadata": {
            "tags": [],
            "needs_background": "light"
          }
        }
      ]
    },
    {
      "cell_type": "code",
      "metadata": {
        "id": "uAaHacvTkWTW",
        "colab_type": "code",
        "colab": {
          "base_uri": "https://localhost:8080/",
          "height": 34
        },
        "outputId": "2053b27e-a7b7-4de9-cbff-25e7b3acc5d6"
      },
      "source": [
        "max_citizen = [year for year in cfd['citizen'] if cfd['citizen'][year] > 20]\n",
        "max_citizen"
      ],
      "execution_count": 26,
      "outputs": [
        {
          "output_type": "execute_result",
          "data": {
            "text/plain": [
              "['1841']"
            ]
          },
          "metadata": {
            "tags": []
          },
          "execution_count": 26
        }
      ]
    },
    {
      "cell_type": "code",
      "metadata": {
        "id": "fMXEyKbmlO_o",
        "colab_type": "code",
        "colab": {
          "base_uri": "https://localhost:8080/",
          "height": 34
        },
        "outputId": "cd4d81b9-0048-4b2e-bfec-48a02b9c5441"
      },
      "source": [
        "for fileid in inaugural.fileids():\n",
        "  if fileid[:4] in max_citizen:\n",
        "    print(fileid)\n",
        "    break"
      ],
      "execution_count": 29,
      "outputs": [
        {
          "output_type": "stream",
          "text": [
            "1841-Harrison.txt\n"
          ],
          "name": "stdout"
        }
      ]
    },
    {
      "cell_type": "code",
      "metadata": {
        "id": "vqacqpcQlrbm",
        "colab_type": "code",
        "colab": {
          "base_uri": "https://localhost:8080/",
          "height": 34
        },
        "outputId": "d19e04b1-ee39-4a0a-fb8c-0dce555e3624"
      },
      "source": [
        "cfd['citizen']['1841']"
      ],
      "execution_count": 30,
      "outputs": [
        {
          "output_type": "execute_result",
          "data": {
            "text/plain": [
              "38"
            ]
          },
          "metadata": {
            "tags": []
          },
          "execution_count": 30
        }
      ]
    },
    {
      "cell_type": "code",
      "metadata": {
        "id": "6DIi5ozTmfCh",
        "colab_type": "code",
        "colab": {
          "base_uri": "https://localhost:8080/",
          "height": 54
        },
        "outputId": "6cc24a5c-b17b-483e-f544-637fa09a2422"
      },
      "source": [
        "more_than_10_america = []\n",
        "for year in cfd['america']:\n",
        "  if cfd['america'][year] > 10:\n",
        "    more_than_10_america.append(year)\n",
        "\n",
        "patriotic_presidents = []\n",
        "for fileid in inaugural.fileids():\n",
        "  if fileid[:4] in more_than_10_america:\n",
        "    patriotic_presidents.append(fileid)\n",
        "print(patriotic_presidents)"
      ],
      "execution_count": 37,
      "outputs": [
        {
          "output_type": "stream",
          "text": [
            "['1909-Taft.txt', '1921-Harding.txt', '1925-Coolidge.txt', '1929-Hoover.txt', '1941-Roosevelt.txt', '1973-Nixon.txt', '1981-Reagan.txt', '1985-Reagan.txt', '1989-Bush.txt', '1993-Clinton.txt', '1997-Clinton.txt', '2001-Bush.txt', '2005-Bush.txt', '2009-Obama.txt', '2013-Obama.txt', '2017-Trump.txt']\n"
          ],
          "name": "stdout"
        }
      ]
    },
    {
      "cell_type": "markdown",
      "metadata": {
        "id": "AB4eFE9UkTDg",
        "colab_type": "text"
      },
      "source": [
        "President Harrison used words that start with citizens 38 times, which is conspicuously frequent compared to the rest, who on average use the related words < 10 times. The frequency of words starting with america has increased in the 20th century, which suggests that recent Presidents have increasingly emphasized patriotism and loyalty to the country. Presidents who have used words beginning with America more than 10 times seem to be evenly split across two political parties. Nevertheless, their presidency is marked by turbulent wars (20s, 40s) in the early 20th century and scandals (Nixon and Clinton). The prevalence of words starting with america in the 21st century suggests that Presidents are appealing to the national identity in an increasingly polarized political climate. "
      ]
    }
  ]
}