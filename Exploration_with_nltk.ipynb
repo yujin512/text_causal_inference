{
  "nbformat": 4,
  "nbformat_minor": 0,
  "metadata": {
    "colab": {
      "name": "Exploration with nltk.ipynb",
      "provenance": [],
      "authorship_tag": "ABX9TyMOp9ZTFWqOEF+ZZ+MkZ1nc",
      "include_colab_link": true
    },
    "kernelspec": {
      "name": "python3",
      "display_name": "Python 3"
    }
  },
  "cells": [
    {
      "cell_type": "markdown",
      "metadata": {
        "id": "view-in-github",
        "colab_type": "text"
      },
      "source": [
        "<a href=\"https://colab.research.google.com/github/yujin512/text_causal_inference/blob/master/Exploration_with_nltk.ipynb\" target=\"_parent\"><img src=\"https://colab.research.google.com/assets/colab-badge.svg\" alt=\"Open In Colab\"/></a>"
      ]
    },
    {
      "cell_type": "markdown",
      "metadata": {
        "id": "hUPI0lluuBAh",
        "colab_type": "text"
      },
      "source": [
        "### Introduction to nltk\n",
        "In this notebook, I learn the basic functions and corpora in nltk, following the tutorial \"NLP with Python\" here: http://www.nltk.org/book/ch02.html. \n"
      ]
    },
    {
      "cell_type": "code",
      "metadata": {
        "id": "XRPcRCj0R0BV",
        "colab_type": "code",
        "colab": {
          "base_uri": "https://localhost:8080/",
          "height": 1000
        },
        "outputId": "26b4c4e1-f79b-4deb-d3e8-5c5b1c7623dc"
      },
      "source": [
        "import nltk\n",
        "nltk.download('book')"
      ],
      "execution_count": 43,
      "outputs": [
        {
          "output_type": "stream",
          "text": [
            "[nltk_data] Downloading collection 'book'\n",
            "[nltk_data]    | \n",
            "[nltk_data]    | Downloading package abc to /root/nltk_data...\n",
            "[nltk_data]    |   Unzipping corpora/abc.zip.\n",
            "[nltk_data]    | Downloading package brown to /root/nltk_data...\n",
            "[nltk_data]    |   Unzipping corpora/brown.zip.\n",
            "[nltk_data]    | Downloading package chat80 to /root/nltk_data...\n",
            "[nltk_data]    |   Unzipping corpora/chat80.zip.\n",
            "[nltk_data]    | Downloading package cmudict to /root/nltk_data...\n",
            "[nltk_data]    |   Unzipping corpora/cmudict.zip.\n",
            "[nltk_data]    | Downloading package conll2000 to /root/nltk_data...\n",
            "[nltk_data]    |   Unzipping corpora/conll2000.zip.\n",
            "[nltk_data]    | Downloading package conll2002 to /root/nltk_data...\n",
            "[nltk_data]    |   Unzipping corpora/conll2002.zip.\n",
            "[nltk_data]    | Downloading package dependency_treebank to\n",
            "[nltk_data]    |     /root/nltk_data...\n",
            "[nltk_data]    |   Unzipping corpora/dependency_treebank.zip.\n",
            "[nltk_data]    | Downloading package genesis to /root/nltk_data...\n",
            "[nltk_data]    |   Unzipping corpora/genesis.zip.\n",
            "[nltk_data]    | Downloading package gutenberg to /root/nltk_data...\n",
            "[nltk_data]    |   Unzipping corpora/gutenberg.zip.\n",
            "[nltk_data]    | Downloading package ieer to /root/nltk_data...\n",
            "[nltk_data]    |   Unzipping corpora/ieer.zip.\n",
            "[nltk_data]    | Downloading package inaugural to /root/nltk_data...\n",
            "[nltk_data]    |   Package inaugural is already up-to-date!\n",
            "[nltk_data]    | Downloading package movie_reviews to\n",
            "[nltk_data]    |     /root/nltk_data...\n",
            "[nltk_data]    |   Unzipping corpora/movie_reviews.zip.\n",
            "[nltk_data]    | Downloading package nps_chat to /root/nltk_data...\n",
            "[nltk_data]    |   Unzipping corpora/nps_chat.zip.\n",
            "[nltk_data]    | Downloading package names to /root/nltk_data...\n",
            "[nltk_data]    |   Unzipping corpora/names.zip.\n",
            "[nltk_data]    | Downloading package ppattach to /root/nltk_data...\n",
            "[nltk_data]    |   Unzipping corpora/ppattach.zip.\n",
            "[nltk_data]    | Downloading package reuters to /root/nltk_data...\n",
            "[nltk_data]    | Downloading package senseval to /root/nltk_data...\n",
            "[nltk_data]    |   Unzipping corpora/senseval.zip.\n",
            "[nltk_data]    | Downloading package state_union to /root/nltk_data...\n",
            "[nltk_data]    |   Unzipping corpora/state_union.zip.\n",
            "[nltk_data]    | Downloading package stopwords to /root/nltk_data...\n",
            "[nltk_data]    |   Unzipping corpora/stopwords.zip.\n",
            "[nltk_data]    | Downloading package swadesh to /root/nltk_data...\n",
            "[nltk_data]    |   Unzipping corpora/swadesh.zip.\n",
            "[nltk_data]    | Downloading package timit to /root/nltk_data...\n",
            "[nltk_data]    |   Unzipping corpora/timit.zip.\n",
            "[nltk_data]    | Downloading package treebank to /root/nltk_data...\n",
            "[nltk_data]    |   Unzipping corpora/treebank.zip.\n",
            "[nltk_data]    | Downloading package toolbox to /root/nltk_data...\n",
            "[nltk_data]    |   Unzipping corpora/toolbox.zip.\n",
            "[nltk_data]    | Downloading package udhr to /root/nltk_data...\n",
            "[nltk_data]    |   Unzipping corpora/udhr.zip.\n",
            "[nltk_data]    | Downloading package udhr2 to /root/nltk_data...\n",
            "[nltk_data]    |   Unzipping corpora/udhr2.zip.\n",
            "[nltk_data]    | Downloading package unicode_samples to\n",
            "[nltk_data]    |     /root/nltk_data...\n",
            "[nltk_data]    |   Unzipping corpora/unicode_samples.zip.\n",
            "[nltk_data]    | Downloading package webtext to /root/nltk_data...\n",
            "[nltk_data]    |   Unzipping corpora/webtext.zip.\n",
            "[nltk_data]    | Downloading package wordnet to /root/nltk_data...\n",
            "[nltk_data]    |   Unzipping corpora/wordnet.zip.\n",
            "[nltk_data]    | Downloading package wordnet_ic to /root/nltk_data...\n",
            "[nltk_data]    |   Unzipping corpora/wordnet_ic.zip.\n",
            "[nltk_data]    | Downloading package words to /root/nltk_data...\n",
            "[nltk_data]    |   Unzipping corpora/words.zip.\n",
            "[nltk_data]    | Downloading package maxent_treebank_pos_tagger to\n",
            "[nltk_data]    |     /root/nltk_data...\n",
            "[nltk_data]    |   Unzipping taggers/maxent_treebank_pos_tagger.zip.\n",
            "[nltk_data]    | Downloading package maxent_ne_chunker to\n",
            "[nltk_data]    |     /root/nltk_data...\n",
            "[nltk_data]    |   Unzipping chunkers/maxent_ne_chunker.zip.\n",
            "[nltk_data]    | Downloading package universal_tagset to\n",
            "[nltk_data]    |     /root/nltk_data...\n",
            "[nltk_data]    |   Unzipping taggers/universal_tagset.zip.\n",
            "[nltk_data]    | Downloading package punkt to /root/nltk_data...\n",
            "[nltk_data]    |   Unzipping tokenizers/punkt.zip.\n",
            "[nltk_data]    | Downloading package book_grammars to\n",
            "[nltk_data]    |     /root/nltk_data...\n",
            "[nltk_data]    |   Unzipping grammars/book_grammars.zip.\n",
            "[nltk_data]    | Downloading package city_database to\n",
            "[nltk_data]    |     /root/nltk_data...\n",
            "[nltk_data]    |   Unzipping corpora/city_database.zip.\n",
            "[nltk_data]    | Downloading package tagsets to /root/nltk_data...\n",
            "[nltk_data]    |   Unzipping help/tagsets.zip.\n",
            "[nltk_data]    | Downloading package panlex_swadesh to\n",
            "[nltk_data]    |     /root/nltk_data...\n",
            "[nltk_data]    | Downloading package averaged_perceptron_tagger to\n",
            "[nltk_data]    |     /root/nltk_data...\n",
            "[nltk_data]    |   Unzipping taggers/averaged_perceptron_tagger.zip.\n",
            "[nltk_data]    | \n",
            "[nltk_data]  Done downloading collection book\n"
          ],
          "name": "stdout"
        },
        {
          "output_type": "execute_result",
          "data": {
            "text/plain": [
              "True"
            ]
          },
          "metadata": {
            "tags": []
          },
          "execution_count": 43
        }
      ]
    },
    {
      "cell_type": "code",
      "metadata": {
        "id": "jkbPOY6LUV99",
        "colab_type": "code",
        "colab": {
          "base_uri": "https://localhost:8080/",
          "height": 238
        },
        "outputId": "899563ad-6402-47d9-80cc-993c5d438c9d"
      },
      "source": [
        "from nltk.book import *"
      ],
      "execution_count": 9,
      "outputs": [
        {
          "output_type": "stream",
          "text": [
            "*** Introductory Examples for the NLTK Book ***\n",
            "Loading text1, ..., text9 and sent1, ..., sent9\n",
            "Type the name of the text or sentence to view it.\n",
            "Type: 'texts()' or 'sents()' to list the materials.\n",
            "text1: Moby Dick by Herman Melville 1851\n",
            "text2: Sense and Sensibility by Jane Austen 1811\n",
            "text3: The Book of Genesis\n",
            "text4: Inaugural Address Corpus\n",
            "text5: Chat Corpus\n",
            "text6: Monty Python and the Holy Grail\n",
            "text7: Wall Street Journal\n",
            "text8: Personals Corpus\n",
            "text9: The Man Who Was Thursday by G . K . Chesterton 1908\n"
          ],
          "name": "stdout"
        }
      ]
    },
    {
      "cell_type": "code",
      "metadata": {
        "id": "TbHmKKAHVIiK",
        "colab_type": "code",
        "colab": {
          "base_uri": "https://localhost:8080/",
          "height": 34
        },
        "outputId": "4cef4287-3e8a-4c6f-84c5-d313427a5bea"
      },
      "source": [
        "text6"
      ],
      "execution_count": 10,
      "outputs": [
        {
          "output_type": "execute_result",
          "data": {
            "text/plain": [
              "<Text: Monty Python and the Holy Grail>"
            ]
          },
          "metadata": {
            "tags": []
          },
          "execution_count": 10
        }
      ]
    },
    {
      "cell_type": "code",
      "metadata": {
        "id": "uf8YJnlLVNsw",
        "colab_type": "code",
        "colab": {
          "base_uri": "https://localhost:8080/",
          "height": 221
        },
        "outputId": "b85d958b-683e-4af4-dbd5-653dd4a3dffd"
      },
      "source": [
        "text1.concordance(\"monstrous\")"
      ],
      "execution_count": 12,
      "outputs": [
        {
          "output_type": "stream",
          "text": [
            "Displaying 11 of 11 matches:\n",
            "ong the former , one was of a most monstrous size . ... This came towards us , \n",
            "ON OF THE PSALMS . \" Touching that monstrous bulk of the whale or ork we have r\n",
            "ll over with a heathenish array of monstrous clubs and spears . Some were thick\n",
            "d as you gazed , and wondered what monstrous cannibal and savage could ever hav\n",
            "that has survived the flood ; most monstrous and most mountainous ! That Himmal\n",
            "they might scout at Moby Dick as a monstrous fable , or still worse and more de\n",
            "th of Radney .'\" CHAPTER 55 Of the Monstrous Pictures of Whales . I shall ere l\n",
            "ing Scenes . In connexion with the monstrous pictures of whales , I am strongly\n",
            "ere to enter upon those still more monstrous stories of them which are to be fo\n",
            "ght have been rummaged out of this monstrous cabinet there is no telling . But \n",
            "of Whale - Bones ; for Whales of a monstrous size are oftentimes cast up dead u\n"
          ],
          "name": "stdout"
        }
      ]
    },
    {
      "cell_type": "code",
      "metadata": {
        "id": "P_79s2pgVSmw",
        "colab_type": "code",
        "colab": {
          "base_uri": "https://localhost:8080/",
          "height": 459
        },
        "outputId": "7a7ac73c-1e9b-4284-d093-7634249532f5"
      },
      "source": [
        "text5.concordance(\"lol\")"
      ],
      "execution_count": 14,
      "outputs": [
        {
          "output_type": "stream",
          "text": [
            "Displaying 25 of 822 matches:\n",
            "ast PART 24 / m boo . 26 / m and sexy lol U115 boo . JOIN PART he drew a girl w\n",
            "ope he didnt draw a penis PART ewwwww lol & a head between her legs JOIN JOIN s\n",
            "a bowl i got a blunt an a bong ...... lol JOIN well , glad it worked out my cha\n",
            "e \" PART Hi U121 in ny . ACTION would lol @ U121 . . . but appearently she does\n",
            "30 make sure u buy a nice ring for U6 lol U7 Hi U115 . ACTION isnt falling for \n",
            " didnt ya hear !!!! PART JOIN geeshhh lol U6 PART hes deaf ppl here dont get it\n",
            "es nobody here i wanna misbeahve with lol JOIN so read it . thanks U7 .. Im hap\n",
            "ies want to chat can i talk to him !! lol U121 !!! forwards too lol JOIN ALL PE\n",
            "k to him !! lol U121 !!! forwards too lol JOIN ALL PErvs ... redirect to U121 '\n",
            " loves ME the most i love myself JOIN lol U44 how do u know that what ? jerkett\n",
            "ng wrong ... i can see it in his eyes lol U20 = fiance Jerketts lmao wtf yah I \n",
            "cooler by the minute what 'd I miss ? lol noo there too much work ! why not ?? \n",
            " that mean I want you ? U6 hello room lol U83 and this .. has been the grammar \n",
            " the rule he 's in PM land now though lol ah ok i wont bug em then someone wann\n",
            "flight to hell :) lmao bbl maybe PART LOL lol U7 it was me , U83 hahah U83 ! 80\n",
            "ht to hell :) lmao bbl maybe PART LOL lol U7 it was me , U83 hahah U83 ! 808265\n",
            "082653953 K-Fed got his ass kicked .. Lol . ACTION laughs . i got a first class\n",
            " . i got a first class ticket to hell lol U7 JOIN any texas girls in here ? any\n",
            " . whats up U155 i was only kidding . lol he 's a douchebag . Poor U121 i 'm bo\n",
            " ??? sits with U30 Cum to my shower . lol U121 . ACTION U1370 watches his nads \n",
            " ur nad with a stick . ca u U23 ewwww lol *sniffs* ewwwwww PART U115 ! owww spl\n",
            "ACTION is resisting . ur female right lol U115 beeeeehave Remember the LAst tim\n",
            "pm's me . charge that is 1.99 / min . lol @ innocent hahah lol .... yeah LOLOLO\n",
            " is 1.99 / min . lol @ innocent hahah lol .... yeah LOLOLOLLL U12 thats not nic\n",
            "s . lmao no U115 Check my record . :) Lol lick em U7 U23 how old r u lol Way to\n"
          ],
          "name": "stdout"
        }
      ]
    },
    {
      "cell_type": "code",
      "metadata": {
        "id": "mzT-fZe4VluF",
        "colab_type": "code",
        "colab": {
          "base_uri": "https://localhost:8080/",
          "height": 68
        },
        "outputId": "5c697cee-940d-4b8f-d1c5-3ca803c174d0"
      },
      "source": [
        "text1.similar(\"monstrous\")"
      ],
      "execution_count": 15,
      "outputs": [
        {
          "output_type": "stream",
          "text": [
            "true contemptible christian abundant few part mean careful puzzled\n",
            "mystifying passing curious loving wise doleful gamesome singular\n",
            "delightfully perilous fearless\n"
          ],
          "name": "stdout"
        }
      ]
    },
    {
      "cell_type": "code",
      "metadata": {
        "id": "OKXf1vNTV1zs",
        "colab_type": "code",
        "colab": {
          "base_uri": "https://localhost:8080/",
          "height": 51
        },
        "outputId": "9536f278-d41f-467f-8a7c-88a6e3d3cd75"
      },
      "source": [
        "text2.similar(\"monstrous\")"
      ],
      "execution_count": 16,
      "outputs": [
        {
          "output_type": "stream",
          "text": [
            "very so exceedingly heartily a as good great extremely remarkably\n",
            "sweet vast amazingly\n"
          ],
          "name": "stdout"
        }
      ]
    },
    {
      "cell_type": "code",
      "metadata": {
        "id": "8v1mSuxCV_w3",
        "colab_type": "code",
        "colab": {
          "base_uri": "https://localhost:8080/",
          "height": 34
        },
        "outputId": "22483c3c-d645-4dc4-a71d-5d46ed09575f"
      },
      "source": [
        "text2.common_contexts([\"monstrous\", \"great\"])"
      ],
      "execution_count": 18,
      "outputs": [
        {
          "output_type": "stream",
          "text": [
            "a_deal\n"
          ],
          "name": "stdout"
        }
      ]
    },
    {
      "cell_type": "code",
      "metadata": {
        "id": "D5HNYqESWKR2",
        "colab_type": "code",
        "colab": {
          "base_uri": "https://localhost:8080/",
          "height": 295
        },
        "outputId": "59208f07-96b3-4e60-d089-87cf29c63bad"
      },
      "source": [
        "text1.dispersion_plot([\"Moby\", \"Ishmael\"])"
      ],
      "execution_count": 20,
      "outputs": [
        {
          "output_type": "display_data",
          "data": {
            "image/png": "[encoded data removed]",
            "text/plain": [
              "<Figure size 432x288 with 1 Axes>"
            ]
          },
          "metadata": {
            "tags": [],
            "needs_background": "light"
          }
        }
      ]
    },
    {
      "cell_type": "code",
      "metadata": {
        "id": "AqURR4SHWnYh",
        "colab_type": "code",
        "colab": {}
      },
      "source": [
        "text6.generate([\"yes\"])"
      ],
      "execution_count": 23,
      "outputs": []
    },
    {
      "cell_type": "code",
      "metadata": {
        "id": "87Fu8W3ZXOHt",
        "colab_type": "code",
        "colab": {
          "base_uri": "https://localhost:8080/",
          "height": 34
        },
        "outputId": "7d706f71-a88f-4067-8921-a9d388821b2f"
      },
      "source": [
        "len(text3)"
      ],
      "execution_count": 24,
      "outputs": [
        {
          "output_type": "execute_result",
          "data": {
            "text/plain": [
              "44764"
            ]
          },
          "metadata": {
            "tags": []
          },
          "execution_count": 24
        }
      ]
    },
    {
      "cell_type": "code",
      "metadata": {
        "id": "ovs16peoX4mE",
        "colab_type": "code",
        "colab": {
          "base_uri": "https://localhost:8080/",
          "height": 34
        },
        "outputId": "15d4f624-42a5-404e-cc1a-bdec23ff87b8"
      },
      "source": [
        "len(set(text3))/len(text3)"
      ],
      "execution_count": 25,
      "outputs": [
        {
          "output_type": "execute_result",
          "data": {
            "text/plain": [
              "0.06230453042623537"
            ]
          },
          "metadata": {
            "tags": []
          },
          "execution_count": 25
        }
      ]
    },
    {
      "cell_type": "markdown",
      "metadata": {
        "id": "zt-RIcZYX_LG",
        "colab_type": "text"
      },
      "source": [
        "Same words are used 16 times in the Book of Genesis. "
      ]
    },
    {
      "cell_type": "code",
      "metadata": {
        "id": "Y7ZZ-_02YCag",
        "colab_type": "code",
        "colab": {
          "base_uri": "https://localhost:8080/",
          "height": 34
        },
        "outputId": "1a88b06a-b86f-4116-8c10-90db9fe88d33"
      },
      "source": [
        "text3.count(\"God\")/len(text3) * 100"
      ],
      "execution_count": 26,
      "outputs": [
        {
          "output_type": "execute_result",
          "data": {
            "text/plain": [
              "0.5160396747386293"
            ]
          },
          "metadata": {
            "tags": []
          },
          "execution_count": 26
        }
      ]
    },
    {
      "cell_type": "markdown",
      "metadata": {
        "id": "XvtnyC0RYJ6w",
        "colab_type": "text"
      },
      "source": [
        "God takes up 50% of the text."
      ]
    },
    {
      "cell_type": "code",
      "metadata": {
        "id": "YjamlDU8YS_u",
        "colab_type": "code",
        "colab": {
          "base_uri": "https://localhost:8080/",
          "height": 272
        },
        "outputId": "392f6b95-6b9d-4154-e56b-1871b9fc163c"
      },
      "source": [
        "sent1 + sent2"
      ],
      "execution_count": 29,
      "outputs": [
        {
          "output_type": "execute_result",
          "data": {
            "text/plain": [
              "['Call',\n",
              " 'me',\n",
              " 'Ishmael',\n",
              " '.',\n",
              " 'The',\n",
              " 'family',\n",
              " 'of',\n",
              " 'Dashwood',\n",
              " 'had',\n",
              " 'long',\n",
              " 'been',\n",
              " 'settled',\n",
              " 'in',\n",
              " 'Sussex',\n",
              " '.']"
            ]
          },
          "metadata": {
            "tags": []
          },
          "execution_count": 29
        }
      ]
    },
    {
      "cell_type": "code",
      "metadata": {
        "id": "tvZSl82ofggR",
        "colab_type": "code",
        "colab": {
          "base_uri": "https://localhost:8080/",
          "height": 867
        },
        "outputId": "aa0dd762-af3f-490f-d312-ed82945127b4"
      },
      "source": [
        "fdist1 = FreqDist(text1)\n",
        "fdist1.most_common(50)"
      ],
      "execution_count": 31,
      "outputs": [
        {
          "output_type": "execute_result",
          "data": {
            "text/plain": [
              "[(',', 18713),\n",
              " ('the', 13721),\n",
              " ('.', 6862),\n",
              " ('of', 6536),\n",
              " ('and', 6024),\n",
              " ('a', 4569),\n",
              " ('to', 4542),\n",
              " (';', 4072),\n",
              " ('in', 3916),\n",
              " ('that', 2982),\n",
              " (\"'\", 2684),\n",
              " ('-', 2552),\n",
              " ('his', 2459),\n",
              " ('it', 2209),\n",
              " ('I', 2124),\n",
              " ('s', 1739),\n",
              " ('is', 1695),\n",
              " ('he', 1661),\n",
              " ('with', 1659),\n",
              " ('was', 1632),\n",
              " ('as', 1620),\n",
              " ('\"', 1478),\n",
              " ('all', 1462),\n",
              " ('for', 1414),\n",
              " ('this', 1280),\n",
              " ('!', 1269),\n",
              " ('at', 1231),\n",
              " ('by', 1137),\n",
              " ('but', 1113),\n",
              " ('not', 1103),\n",
              " ('--', 1070),\n",
              " ('him', 1058),\n",
              " ('from', 1052),\n",
              " ('be', 1030),\n",
              " ('on', 1005),\n",
              " ('so', 918),\n",
              " ('whale', 906),\n",
              " ('one', 889),\n",
              " ('you', 841),\n",
              " ('had', 767),\n",
              " ('have', 760),\n",
              " ('there', 715),\n",
              " ('But', 705),\n",
              " ('or', 697),\n",
              " ('were', 680),\n",
              " ('now', 646),\n",
              " ('which', 640),\n",
              " ('?', 637),\n",
              " ('me', 627),\n",
              " ('like', 624)]"
            ]
          },
          "metadata": {
            "tags": []
          },
          "execution_count": 31
        }
      ]
    },
    {
      "cell_type": "code",
      "metadata": {
        "id": "rUC_bITMf2jw",
        "colab_type": "code",
        "colab": {
          "base_uri": "https://localhost:8080/",
          "height": 299
        },
        "outputId": "b142f2f2-be4b-40a5-d6f0-2a3e7230ff85"
      },
      "source": [
        "fdist1.plot(50, cumulative=True)"
      ],
      "execution_count": 34,
      "outputs": [
        {
          "output_type": "display_data",
          "data": {
            "image/png": "[encoded data removed]",
            "text/plain": [
              "<Figure size 432x288 with 1 Axes>"
            ]
          },
          "metadata": {
            "tags": [],
            "needs_background": "light"
          }
        }
      ]
    },
    {
      "cell_type": "code",
      "metadata": {
        "id": "Oh_xsPmigFWG",
        "colab_type": "code",
        "colab": {
          "base_uri": "https://localhost:8080/",
          "height": 187
        },
        "outputId": "53b7b831-fc3e-428e-91ce-1f9d11a5ea15"
      },
      "source": [
        "fdist1.hapaxes()[:10]"
      ],
      "execution_count": 36,
      "outputs": [
        {
          "output_type": "execute_result",
          "data": {
            "text/plain": [
              "['Herman',\n",
              " 'Melville',\n",
              " ']',\n",
              " 'ETYMOLOGY',\n",
              " 'Late',\n",
              " 'Consumptive',\n",
              " 'School',\n",
              " 'threadbare',\n",
              " 'lexicons',\n",
              " 'mockingly']"
            ]
          },
          "metadata": {
            "tags": []
          },
          "execution_count": 36
        }
      ]
    },
    {
      "cell_type": "code",
      "metadata": {
        "id": "w6KVqzPJgZ1a",
        "colab_type": "code",
        "colab": {
          "base_uri": "https://localhost:8080/",
          "height": 198
        },
        "outputId": "13c46328-0eb4-4acf-a264-3b1c5f54e1bc"
      },
      "source": [
        "V = set(text1)\n",
        "long_words = [w for w in V if len(w) > 7 and fdist1[w] > 7]\n",
        "sorted(long_words)[:5]"
      ],
      "execution_count": 39,
      "outputs": [
        {
          "output_type": "error",
          "ename": "NameError",
          "evalue": "ignored",
          "traceback": [
            "\u001b[0;31m---------------------------------------------------------------------------\u001b[0m",
            "\u001b[0;31mNameError\u001b[0m                                 Traceback (most recent call last)",
            "\u001b[0;32m<ipython-input-39-93806ef70a05>\u001b[0m in \u001b[0;36m<module>\u001b[0;34m()\u001b[0m\n\u001b[0;32m----> 1\u001b[0;31m \u001b[0mV\u001b[0m \u001b[0;34m=\u001b[0m \u001b[0mset\u001b[0m\u001b[0;34m(\u001b[0m\u001b[0mtext1\u001b[0m\u001b[0;34m)\u001b[0m\u001b[0;34m\u001b[0m\u001b[0;34m\u001b[0m\u001b[0m\n\u001b[0m\u001b[1;32m      2\u001b[0m \u001b[0mlong_words\u001b[0m \u001b[0;34m=\u001b[0m \u001b[0;34m[\u001b[0m\u001b[0mw\u001b[0m \u001b[0;32mfor\u001b[0m \u001b[0mw\u001b[0m \u001b[0;32min\u001b[0m \u001b[0mV\u001b[0m \u001b[0;32mif\u001b[0m \u001b[0mlen\u001b[0m\u001b[0;34m(\u001b[0m\u001b[0mw\u001b[0m\u001b[0;34m)\u001b[0m \u001b[0;34m>\u001b[0m \u001b[0;36m7\u001b[0m \u001b[0;32mand\u001b[0m \u001b[0mfdist1\u001b[0m\u001b[0;34m[\u001b[0m\u001b[0mw\u001b[0m\u001b[0;34m]\u001b[0m \u001b[0;34m>\u001b[0m \u001b[0;36m7\u001b[0m\u001b[0;34m]\u001b[0m\u001b[0;34m\u001b[0m\u001b[0;34m\u001b[0m\u001b[0m\n\u001b[1;32m      3\u001b[0m \u001b[0msorted\u001b[0m\u001b[0;34m(\u001b[0m\u001b[0mlong_words\u001b[0m\u001b[0;34m)\u001b[0m\u001b[0;34m[\u001b[0m\u001b[0;34m:\u001b[0m\u001b[0;36m5\u001b[0m\u001b[0;34m]\u001b[0m\u001b[0;34m\u001b[0m\u001b[0;34m\u001b[0m\u001b[0m\n",
            "\u001b[0;31mNameError\u001b[0m: name 'text1' is not defined"
          ]
        }
      ]
    },
    {
      "cell_type": "code",
      "metadata": {
        "id": "wa5kmDAphi3N",
        "colab_type": "code",
        "colab": {
          "base_uri": "https://localhost:8080/",
          "height": 85
        },
        "outputId": "8d27a0ea-f368-4e91-f243-e9ba3ea3df18"
      },
      "source": [
        "# commmon phrases\n",
        "text1.collocations()"
      ],
      "execution_count": 39,
      "outputs": [
        {
          "output_type": "stream",
          "text": [
            "Sperm Whale; Moby Dick; White Whale; old man; Captain Ahab; sperm\n",
            "whale; Right Whale; Captain Peleg; New Bedford; Cape Horn; cried Ahab;\n",
            "years ago; lower jaw; never mind; Father Mapple; cried Stubb; chief\n",
            "mate; white whale; ivory leg; one hand\n"
          ],
          "name": "stdout"
        }
      ]
    },
    {
      "cell_type": "code",
      "metadata": {
        "id": "k5aLU26ptNZ_",
        "colab_type": "code",
        "colab": {
          "base_uri": "https://localhost:8080/",
          "height": 323
        },
        "outputId": "2afb01ef-1d88-4282-a6a0-15be403023da"
      },
      "source": [
        "nltk.corpus.gutenberg.fileids()"
      ],
      "execution_count": 41,
      "outputs": [
        {
          "output_type": "execute_result",
          "data": {
            "text/plain": [
              "['austen-emma.txt',\n",
              " 'austen-persuasion.txt',\n",
              " 'austen-sense.txt',\n",
              " 'bible-kjv.txt',\n",
              " 'blake-poems.txt',\n",
              " 'bryant-stories.txt',\n",
              " 'burgess-busterbrown.txt',\n",
              " 'carroll-alice.txt',\n",
              " 'chesterton-ball.txt',\n",
              " 'chesterton-brown.txt',\n",
              " 'chesterton-thursday.txt',\n",
              " 'edgeworth-parents.txt',\n",
              " 'melville-moby_dick.txt',\n",
              " 'milton-paradise.txt',\n",
              " 'shakespeare-caesar.txt',\n",
              " 'shakespeare-hamlet.txt',\n",
              " 'shakespeare-macbeth.txt',\n",
              " 'whitman-leaves.txt']"
            ]
          },
          "metadata": {
            "tags": []
          },
          "execution_count": 41
        }
      ]
    },
    {
      "cell_type": "code",
      "metadata": {
        "id": "teqjW2bRht_n",
        "colab_type": "code",
        "colab": {}
      },
      "source": [
        "emma = nltk.corpus.gutenberg.words('austen-emma.txt')"
      ],
      "execution_count": 40,
      "outputs": []
    },
    {
      "cell_type": "code",
      "metadata": {
        "id": "uiA09FAZtQl1",
        "colab_type": "code",
        "colab": {}
      },
      "source": [
        "from nltk.corpus import brown\n",
        "cfd = nltk.ConditionalFreqDist((genre, word) for genre in brown.categories() for word in brown.words(categories=genre))"
      ],
      "execution_count": 43,
      "outputs": []
    },
    {
      "cell_type": "code",
      "metadata": {
        "id": "wZzSlruWusb4",
        "colab_type": "code",
        "colab": {
          "base_uri": "https://localhost:8080/",
          "height": 289
        },
        "outputId": "09427627-083c-49e3-f65f-1071396baba5"
      },
      "source": [
        "genres = ['news', 'religion', 'romance']\n",
        "modals = ['can', 'could', 'may']\n",
        "cfd.tabulate(condition=genres, samples = modals)"
      ],
      "execution_count": 45,
      "outputs": [
        {
          "output_type": "stream",
          "text": [
            "                  can could   may \n",
            "      adventure    46   151     5 \n",
            " belles_lettres   246   213   207 \n",
            "      editorial   121    56    74 \n",
            "        fiction    37   166     8 \n",
            "     government   117    38   153 \n",
            "        hobbies   268    58   131 \n",
            "          humor    16    30     8 \n",
            "        learned   365   159   324 \n",
            "           lore   170   141   165 \n",
            "        mystery    42   141    13 \n",
            "           news    93    86    66 \n",
            "       religion    82    59    78 \n",
            "        reviews    45    40    45 \n",
            "        romance    74   193    11 \n",
            "science_fiction    16    49     4 \n"
          ],
          "name": "stdout"
        }
      ]
    },
    {
      "cell_type": "markdown",
      "metadata": {
        "id": "PRuWaqVVkKhb",
        "colab_type": "text"
      },
      "source": [
        "Plotting the occurrence of words starting with america and citizen in presidential inaugural speeches. "
      ]
    },
    {
      "cell_type": "code",
      "metadata": {
        "id": "I8cCv-JKi8lq",
        "colab_type": "code",
        "colab": {
          "base_uri": "https://localhost:8080/",
          "height": 68
        },
        "outputId": "6b19fe91-3ff3-41b5-d6e3-a689a5cef965"
      },
      "source": [
        "\n",
        "import nltk\n",
        "nltk.download(\"inaugural\")\n"
      ],
      "execution_count": 6,
      "outputs": [
        {
          "output_type": "stream",
          "text": [
            "[nltk_data] Downloading package inaugural to /root/nltk_data...\n",
            "[nltk_data]   Unzipping corpora/inaugural.zip.\n"
          ],
          "name": "stdout"
        },
        {
          "output_type": "execute_result",
          "data": {
            "text/plain": [
              "True"
            ]
          },
          "metadata": {
            "tags": []
          },
          "execution_count": 6
        }
      ]
    },
    {
      "cell_type": "code",
      "metadata": {
        "id": "IN9mlKl4jPx2",
        "colab_type": "code",
        "colab": {
          "base_uri": "https://localhost:8080/",
          "height": 35
        },
        "outputId": "a62fd773-6476-49a2-80ec-676180e9ece5"
      },
      "source": [
        "from nltk.corpus import inaugural\n",
        "inaugural.fileids()[0][:4] # year of the address"
      ],
      "execution_count": 11,
      "outputs": [
        {
          "output_type": "execute_result",
          "data": {
            "application/vnd.google.colaboratory.intrinsic+json": {
              "type": "string"
            },
            "text/plain": [
              "'1789'"
            ]
          },
          "metadata": {
            "tags": []
          },
          "execution_count": 11
        }
      ]
    },
    {
      "cell_type": "code",
      "metadata": {
        "id": "YNNIwmDijVae",
        "colab_type": "code",
        "colab": {
          "base_uri": "https://localhost:8080/",
          "height": 34
        },
        "outputId": "159a9373-5582-41c5-8f20-a9c718411dfc"
      },
      "source": [
        "[fileid[:4] for fileid in inaugural.fileids()][:5]"
      ],
      "execution_count": 38,
      "outputs": [
        {
          "output_type": "execute_result",
          "data": {
            "text/plain": [
              "['1789', '1793', '1797', '1801', '1805']"
            ]
          },
          "metadata": {
            "tags": []
          },
          "execution_count": 38
        }
      ]
    },
    {
      "cell_type": "code",
      "metadata": {
        "id": "v98CGODKjip8",
        "colab_type": "code",
        "colab": {}
      },
      "source": [
        "cfd = nltk.ConditionalFreqDist(\n",
        "\t\t\t\t\t\t\t(target, fileid[:4])\n",
        "\t\t\t\t\t\t\tfor fileid in inaugural.fileids()\n",
        "\t\t\t\t\t\t\tfor w in inaugural.words(fileid)\n",
        "              for target in ['america', 'citizen']\n",
        "              if w.lower().startswith(target))"
      ],
      "execution_count": 12,
      "outputs": []
    },
    {
      "cell_type": "code",
      "metadata": {
        "id": "05zX4xonjx8t",
        "colab_type": "code",
        "colab": {
          "base_uri": "https://localhost:8080/",
          "height": 295
        },
        "outputId": "19275cfc-dd67-46e5-99a4-ae6cb154ec2d"
      },
      "source": [
        "cfd.plot()"
      ],
      "execution_count": 15,
      "outputs": [
        {
          "output_type": "display_data",
          "data": {
            "image/png": "[encoded data removed]",
            "text/plain": [
              "<Figure size 432x288 with 1 Axes>"
            ]
          },
          "metadata": {
            "tags": [],
            "needs_background": "light"
          }
        }
      ]
    },
    {
      "cell_type": "code",
      "metadata": {
        "id": "uAaHacvTkWTW",
        "colab_type": "code",
        "colab": {
          "base_uri": "https://localhost:8080/",
          "height": 34
        },
        "outputId": "2053b27e-a7b7-4de9-cbff-25e7b3acc5d6"
      },
      "source": [
        "max_citizen = [year for year in cfd['citizen'] if cfd['citizen'][year] > 20]\n",
        "max_citizen"
      ],
      "execution_count": 26,
      "outputs": [
        {
          "output_type": "execute_result",
          "data": {
            "text/plain": [
              "['1841']"
            ]
          },
          "metadata": {
            "tags": []
          },
          "execution_count": 26
        }
      ]
    },
    {
      "cell_type": "code",
      "metadata": {
        "id": "fMXEyKbmlO_o",
        "colab_type": "code",
        "colab": {
          "base_uri": "https://localhost:8080/",
          "height": 34
        },
        "outputId": "cd4d81b9-0048-4b2e-bfec-48a02b9c5441"
      },
      "source": [
        "for fileid in inaugural.fileids():\n",
        "  if fileid[:4] in max_citizen:\n",
        "    print(fileid)\n",
        "    break"
      ],
      "execution_count": 29,
      "outputs": [
        {
          "output_type": "stream",
          "text": [
            "1841-Harrison.txt\n"
          ],
          "name": "stdout"
        }
      ]
    },
    {
      "cell_type": "code",
      "metadata": {
        "id": "vqacqpcQlrbm",
        "colab_type": "code",
        "colab": {
          "base_uri": "https://localhost:8080/",
          "height": 34
        },
        "outputId": "d19e04b1-ee39-4a0a-fb8c-0dce555e3624"
      },
      "source": [
        "cfd['citizen']['1841']"
      ],
      "execution_count": 30,
      "outputs": [
        {
          "output_type": "execute_result",
          "data": {
            "text/plain": [
              "38"
            ]
          },
          "metadata": {
            "tags": []
          },
          "execution_count": 30
        }
      ]
    },
    {
      "cell_type": "code",
      "metadata": {
        "id": "6DIi5ozTmfCh",
        "colab_type": "code",
        "colab": {
          "base_uri": "https://localhost:8080/",
          "height": 54
        },
        "outputId": "6cc24a5c-b17b-483e-f544-637fa09a2422"
      },
      "source": [
        "more_than_10_america = []\n",
        "for year in cfd['america']:\n",
        "  if cfd['america'][year] > 10:\n",
        "    more_than_10_america.append(year)\n",
        "\n",
        "patriotic_presidents = []\n",
        "for fileid in inaugural.fileids():\n",
        "  if fileid[:4] in more_than_10_america:\n",
        "    patriotic_presidents.append(fileid)\n",
        "print(patriotic_presidents)"
      ],
      "execution_count": 37,
      "outputs": [
        {
          "output_type": "stream",
          "text": [
            "['1909-Taft.txt', '1921-Harding.txt', '1925-Coolidge.txt', '1929-Hoover.txt', '1941-Roosevelt.txt', '1973-Nixon.txt', '1981-Reagan.txt', '1985-Reagan.txt', '1989-Bush.txt', '1993-Clinton.txt', '1997-Clinton.txt', '2001-Bush.txt', '2005-Bush.txt', '2009-Obama.txt', '2013-Obama.txt', '2017-Trump.txt']\n"
          ],
          "name": "stdout"
        }
      ]
    },
    {
      "cell_type": "markdown",
      "metadata": {
        "id": "AB4eFE9UkTDg",
        "colab_type": "text"
      },
      "source": [
        "President Harrison used words that start with citizens 38 times, which is conspicuously frequent compared to the rest, who on average use the related words < 10 times. The frequency of words starting with america has increased in the 20th century, which suggests that recent Presidents have increasingly emphasized patriotism and loyalty to the country. Presidents who have used words beginning with America more than 10 times seem to be evenly split across two political parties. Nevertheless, their presidency is marked by turbulent wars (20s, 40s) in the early 20th century and scandals (Nixon and Clinton). The prevalence of words starting with america in the 21st century suggests that Presidents are appealing to the national identity in an increasingly polarized political climate. "
      ]
    },
    {
      "cell_type": "markdown",
      "metadata": {
        "id": "kvAAyOsLu55K",
        "colab_type": "text"
      },
      "source": [
        "Now I want to explore the udhr corpora, which contains the Universal Declaration of Human Rights in over 300 languages. The fileids include info about character encoding."
      ]
    },
    {
      "cell_type": "code",
      "metadata": {
        "id": "wI4WTpEyuSUm",
        "colab_type": "code",
        "colab": {
          "base_uri": "https://localhost:8080/",
          "height": 1000
        },
        "outputId": "349c093b-2370-4fe6-b60c-b5a50312aba2"
      },
      "source": [
        "from nltk.corpus import udhr\n",
        "udhr.fileids()"
      ],
      "execution_count": 51,
      "outputs": [
        {
          "output_type": "execute_result",
          "data": {
            "text/plain": [
              "['Abkhaz-Cyrillic+Abkh',\n",
              " 'Abkhaz-UTF8',\n",
              " 'Achehnese-Latin1',\n",
              " 'Achuar-Shiwiar-Latin1',\n",
              " 'Adja-UTF8',\n",
              " 'Afaan_Oromo_Oromiffa-Latin1',\n",
              " 'Afrikaans-Latin1',\n",
              " 'Aguaruna-Latin1',\n",
              " 'Akuapem_Twi-UTF8',\n",
              " 'Albanian_Shqip-Latin1',\n",
              " 'Amahuaca',\n",
              " 'Amahuaca-Latin1',\n",
              " 'Amarakaeri-Latin1',\n",
              " 'Amuesha-Yanesha-UTF8',\n",
              " 'Arabela-Latin1',\n",
              " 'Arabic_Alarabia-Arabic',\n",
              " 'Asante-UTF8',\n",
              " 'Ashaninca-Latin1',\n",
              " 'Asheninca-Latin1',\n",
              " 'Asturian_Bable-Latin1',\n",
              " 'Aymara-Latin1',\n",
              " 'Balinese-Latin1',\n",
              " 'Bambara-UTF8',\n",
              " 'Baoule-UTF8',\n",
              " 'Basque_Euskara-Latin1',\n",
              " 'Batonu_Bariba-UTF8',\n",
              " 'Belorus_Belaruski-Cyrillic',\n",
              " 'Belorus_Belaruski-UTF8',\n",
              " 'Bemba-Latin1',\n",
              " 'Bengali-UTF8',\n",
              " 'Beti-UTF8',\n",
              " 'Bichelamar-Latin1',\n",
              " 'Bikol_Bicolano-Latin1',\n",
              " 'Bora-Latin1',\n",
              " 'Bosnian_Bosanski-Cyrillic',\n",
              " 'Bosnian_Bosanski-Latin2',\n",
              " 'Bosnian_Bosanski-UTF8',\n",
              " 'Breton-Latin1',\n",
              " 'Bugisnese-Latin1',\n",
              " 'Bulgarian_Balgarski-Cyrillic',\n",
              " 'Bulgarian_Balgarski-UTF8',\n",
              " 'Cakchiquel-Latin1',\n",
              " 'Campa_Pajonalino-Latin1',\n",
              " 'Candoshi-Shapra-Latin1',\n",
              " 'Caquinte-Latin1',\n",
              " 'Cashibo-Cacataibo-Latin1',\n",
              " 'Cashinahua-Latin1',\n",
              " 'Catalan-Latin1',\n",
              " 'Catalan_Catala-Latin1',\n",
              " 'Cebuano-Latin1',\n",
              " 'Chamorro-Latin1',\n",
              " 'Chayahuita-Latin1',\n",
              " 'Chechewa_Nyanja-Latin1',\n",
              " 'Chickasaw-Latin1',\n",
              " 'Chinanteco-Ajitlan-Latin1',\n",
              " 'Chinanteco-UTF8',\n",
              " 'Chinese_Mandarin-GB2312',\n",
              " 'Chuuk_Trukese-Latin1',\n",
              " 'Cokwe-Latin1',\n",
              " 'Corsican-Latin1',\n",
              " 'Croatian_Hrvatski-Latin2',\n",
              " 'Czech-Latin2',\n",
              " 'Czech-UTF8',\n",
              " 'Czech_Cesky-Latin2',\n",
              " 'Czech_Cesky-UTF8',\n",
              " 'Dagaare-UTF8',\n",
              " 'Dagbani-UTF8',\n",
              " 'Dangme-UTF8',\n",
              " 'Danish_Dansk-Latin1',\n",
              " 'Dendi-UTF8',\n",
              " 'Ditammari-UTF8',\n",
              " 'Dutch_Nederlands-Latin1',\n",
              " 'Edo-Latin1',\n",
              " 'English-Latin1',\n",
              " 'Esperanto-UTF8',\n",
              " 'Estonian_Eesti-Latin1',\n",
              " 'Ewe_Eve-UTF8',\n",
              " 'Fante-UTF8',\n",
              " 'Faroese-Latin1',\n",
              " 'Farsi_Persian-UTF8',\n",
              " 'Farsi_Persian-v2-UTF8',\n",
              " 'Fijian-Latin1',\n",
              " 'Filipino_Tagalog-Latin1',\n",
              " 'Finnish_Suomi-Latin1',\n",
              " 'Fon-UTF8',\n",
              " 'French_Francais-Latin1',\n",
              " 'Frisian-Latin1',\n",
              " 'Friulian_Friulano-Latin1',\n",
              " 'Ga-UTF8',\n",
              " 'Gagauz_Gagauzi-UTF8',\n",
              " 'Galician_Galego-Latin1',\n",
              " 'Garifuna_Garifuna-Latin1',\n",
              " 'German_Deutsch-Latin1',\n",
              " 'Gonja-UTF8',\n",
              " 'Greek_Ellinika-Greek',\n",
              " 'Greek_Ellinika-UTF8',\n",
              " 'Greenlandic_Inuktikut-Latin1',\n",
              " 'Guarani-Latin1',\n",
              " 'Guen_Mina-UTF8',\n",
              " 'HaitianCreole_Kreyol-Latin1',\n",
              " 'HaitianCreole_Popular-Latin1',\n",
              " 'Hani-Latin1',\n",
              " 'Hausa_Haoussa-Latin1',\n",
              " 'Hawaiian-UTF8',\n",
              " 'Hebrew_Ivrit-Hebrew',\n",
              " 'Hebrew_Ivrit-UTF8',\n",
              " 'Hiligaynon-Latin1',\n",
              " 'Hindi-UTF8',\n",
              " 'Hindi_web-UTF8',\n",
              " 'Hmong_Miao-Sichuan-Guizhou-Yunnan-Latin1',\n",
              " 'Hmong_Miao-SouthernEast-Guizhou-Latin1',\n",
              " 'Hmong_Miao_Northern-East-Guizhou-Latin1',\n",
              " 'Hrvatski_Croatian-Latin2',\n",
              " 'Huasteco-Latin1',\n",
              " 'Huitoto_Murui-Latin1',\n",
              " 'Hungarian_Magyar-Latin1',\n",
              " 'Hungarian_Magyar-Latin2',\n",
              " 'Hungarian_Magyar-UTF8',\n",
              " 'Ibibio_Efik-Latin1',\n",
              " 'Icelandic_Yslenska-Latin1',\n",
              " 'Ido-Latin1',\n",
              " 'Igbo-UTF8',\n",
              " 'Iloko_Ilocano-Latin1',\n",
              " 'Indonesian-Latin1',\n",
              " 'Interlingua-Latin1',\n",
              " 'Inuktikut_Greenlandic-Latin1',\n",
              " 'IrishGaelic_Gaeilge-Latin1',\n",
              " 'Italian-Latin1',\n",
              " 'Italian_Italiano-Latin1',\n",
              " 'Japanese_Nihongo-EUC',\n",
              " 'Japanese_Nihongo-SJIS',\n",
              " 'Japanese_Nihongo-UTF8',\n",
              " 'Javanese-Latin1',\n",
              " 'Jola-Fogny_Diola-UTF8',\n",
              " 'Kabye-UTF8',\n",
              " 'Kannada-UTF8',\n",
              " 'Kaonde-Latin1',\n",
              " 'Kapampangan-Latin1',\n",
              " 'Kasem-UTF8',\n",
              " 'Kazakh-Cyrillic',\n",
              " 'Kazakh-UTF8',\n",
              " 'Kiche_Quiche-Latin1',\n",
              " 'Kicongo-Latin1',\n",
              " 'Kimbundu_Mbundu-Latin1',\n",
              " 'Kinyamwezi_Nyamwezi-Latin1',\n",
              " 'Kinyarwanda-Latin1',\n",
              " 'Kituba-Latin1',\n",
              " 'Korean_Hankuko-UTF8',\n",
              " 'Kpelewo-UTF8',\n",
              " 'Krio-UTF8',\n",
              " 'Kurdish-UTF8',\n",
              " 'Lamnso_Lam-nso-UTF8',\n",
              " 'Latin_Latina-Latin1',\n",
              " 'Latin_Latina-v2-Latin1',\n",
              " 'Latvian-Latin1',\n",
              " 'Limba-UTF8',\n",
              " 'Lingala-Latin1',\n",
              " 'Lithuanian_Lietuviskai-Baltic',\n",
              " 'Lozi-Latin1',\n",
              " 'Luba-Kasai_Tshiluba-Latin1',\n",
              " 'Luganda_Ganda-Latin1',\n",
              " 'Lunda_Chokwe-lunda-Latin1',\n",
              " 'Luvale-Latin1',\n",
              " 'Luxembourgish_Letzebuergeusch-Latin1',\n",
              " 'Macedonian-UTF8',\n",
              " 'Madurese-Latin1',\n",
              " 'Makonde-Latin1',\n",
              " 'Malagasy-Latin1',\n",
              " 'Malay_BahasaMelayu-Latin1',\n",
              " 'Maltese-UTF8',\n",
              " 'Mam-Latin1',\n",
              " 'Maninka-UTF8',\n",
              " 'Maori-Latin1',\n",
              " 'Mapudungun_Mapuzgun-Latin1',\n",
              " 'Mapudungun_Mapuzgun-UTF8',\n",
              " 'Marshallese-Latin1',\n",
              " 'Matses-Latin1',\n",
              " 'Mayan_Yucateco-Latin1',\n",
              " 'Mazahua_Jnatrjo-UTF8',\n",
              " 'Mazateco-Latin1',\n",
              " 'Mende-UTF8',\n",
              " 'Mikmaq_Micmac-Mikmaq-Latin1',\n",
              " 'Minangkabau-Latin1',\n",
              " 'Miskito_Miskito-Latin1',\n",
              " 'Mixteco-Latin1',\n",
              " 'Mongolian_Khalkha-Cyrillic',\n",
              " 'Mongolian_Khalkha-UTF8',\n",
              " 'Moore_More-UTF8',\n",
              " 'Nahuatl-Latin1',\n",
              " 'Ndebele-Latin1',\n",
              " 'Nepali-UTF8',\n",
              " 'Ngangela_Nyemba-Latin1',\n",
              " 'NigerianPidginEnglish-Latin1',\n",
              " 'Nomatsiguenga-Latin1',\n",
              " 'NorthernSotho_Pedi-Sepedi-Latin1',\n",
              " 'Norwegian-Latin1',\n",
              " 'Norwegian_Norsk-Bokmal-Latin1',\n",
              " 'Norwegian_Norsk-Nynorsk-Latin1',\n",
              " 'Nyanja_Chechewa-Latin1',\n",
              " 'Nyanja_Chinyanja-Latin1',\n",
              " 'Nzema-UTF8',\n",
              " 'OccitanAuvergnat-Latin1',\n",
              " 'OccitanLanguedocien-Latin1',\n",
              " 'Oromiffa_AfaanOromo-Latin1',\n",
              " 'Osetin_Ossetian-UTF8',\n",
              " 'Oshiwambo_Ndonga-Latin1',\n",
              " 'Otomi_Nahnu-Latin1',\n",
              " 'Paez-Latin1',\n",
              " 'Palauan-Latin1',\n",
              " 'Peuhl-UTF8',\n",
              " 'Picard-Latin1',\n",
              " 'Pipil-Latin1',\n",
              " 'Polish-Latin2',\n",
              " 'Polish_Polski-Latin2',\n",
              " 'Ponapean-Latin1',\n",
              " 'Portuguese_Portugues-Latin1',\n",
              " 'Pulaar-UTF8',\n",
              " 'Punjabi_Panjabi-UTF8',\n",
              " 'Purhepecha-UTF8',\n",
              " 'Qechi_Kekchi-Latin1',\n",
              " 'Quechua-Latin1',\n",
              " 'Quichua-Latin1',\n",
              " 'Rarotongan_MaoriCookIslands-Latin1',\n",
              " 'Rhaeto-Romance_Rumantsch-Latin1',\n",
              " 'Romani-Latin1',\n",
              " 'Romani-UTF8',\n",
              " 'Romanian-Latin2',\n",
              " 'Romanian_Romana-Latin2',\n",
              " 'Rukonzo_Konjo-Latin1',\n",
              " 'Rundi_Kirundi-Latin1',\n",
              " 'Runyankore-rukiga_Nkore-kiga-Latin1',\n",
              " 'Russian-Cyrillic',\n",
              " 'Russian-UTF8',\n",
              " 'Russian_Russky-Cyrillic',\n",
              " 'Russian_Russky-UTF8',\n",
              " 'Sami_Lappish-UTF8',\n",
              " 'Sammarinese-Latin1',\n",
              " 'Samoan-Latin1',\n",
              " 'Sango_Sangho-Latin1',\n",
              " 'Sanskrit-UTF8',\n",
              " 'Saraiki-UTF8',\n",
              " 'Sardinian-Latin1',\n",
              " 'ScottishGaelic_GaidhligAlbanach-Latin1',\n",
              " 'Seereer-UTF8',\n",
              " 'Serbian_Srpski-Cyrillic',\n",
              " 'Serbian_Srpski-Latin2',\n",
              " 'Serbian_Srpski-UTF8',\n",
              " 'Sharanahua-Latin1',\n",
              " 'Shipibo-Conibo-Latin1',\n",
              " 'Shona-Latin1',\n",
              " 'Sinhala-UTF8',\n",
              " 'Siswati-Latin1',\n",
              " 'Slovak-Latin2',\n",
              " 'Slovak_Slovencina-Latin2',\n",
              " 'Slovenian_Slovenscina-Latin2',\n",
              " 'SolomonsPidgin_Pijin-Latin1',\n",
              " 'Somali-Latin1',\n",
              " 'Soninke_Soninkanxaane-UTF8',\n",
              " 'Sorbian-Latin2',\n",
              " 'SouthernSotho_Sotho-Sesotho-Sutu-Sesutu-Latin1',\n",
              " 'Spanish-Latin1',\n",
              " 'Spanish_Espanol-Latin1',\n",
              " 'Sukuma-Latin1',\n",
              " 'Sundanese-Latin1',\n",
              " 'Sussu_Soussou-Sosso-Soso-Susu-UTF8',\n",
              " 'Swaheli-Latin1',\n",
              " 'Swahili_Kiswahili-Latin1',\n",
              " 'Swedish_Svenska-Latin1',\n",
              " 'Tahitian-UTF8',\n",
              " 'Tenek_Huasteco-Latin1',\n",
              " 'Tetum-Latin1',\n",
              " 'Themne_Temne-UTF8',\n",
              " 'Tiv-Latin1',\n",
              " 'Toba-UTF8',\n",
              " 'Tojol-abal-Latin1',\n",
              " 'TokPisin-Latin1',\n",
              " 'Tonga-Latin1',\n",
              " 'Tongan_Tonga-Latin1',\n",
              " 'Totonaco-Latin1',\n",
              " 'Trukese_Chuuk-Latin1',\n",
              " 'Turkish_Turkce-Turkish',\n",
              " 'Turkish_Turkce-UTF8',\n",
              " 'Tzeltal-Latin1',\n",
              " 'Tzotzil-Latin1',\n",
              " 'Uighur_Uyghur-Latin1',\n",
              " 'Uighur_Uyghur-UTF8',\n",
              " 'Ukrainian-Cyrillic',\n",
              " 'Ukrainian-UTF8',\n",
              " 'Umbundu-Latin1',\n",
              " 'Urarina-Latin1',\n",
              " 'Uzbek-Latin1',\n",
              " 'Vietnamese-ALRN-UTF8',\n",
              " 'Vietnamese-UTF8',\n",
              " 'Vlach-Latin1',\n",
              " 'Walloon_Wallon-Latin1',\n",
              " 'Wama-UTF8',\n",
              " 'Waray-Latin1',\n",
              " 'Wayuu-Latin1',\n",
              " 'Welsh_Cymraeg-Latin1',\n",
              " 'WesternSotho_Tswana-Setswana-Latin1',\n",
              " 'Wolof-Latin1',\n",
              " 'Xhosa-Latin1',\n",
              " 'Yagua-Latin1',\n",
              " 'Yao-Latin1',\n",
              " 'Yapese-Latin1',\n",
              " 'Yoruba-UTF8',\n",
              " 'Zapoteco-Latin1',\n",
              " 'Zapoteco-SanLucasQuiavini-Latin1',\n",
              " 'Zhuang-Latin1',\n",
              " 'Zulu-Latin1']"
            ]
          },
          "metadata": {
            "tags": []
          },
          "execution_count": 51
        }
      ]
    },
    {
      "cell_type": "code",
      "metadata": {
        "id": "Xg05E1z7uwI-",
        "colab_type": "code",
        "colab": {
          "base_uri": "https://localhost:8080/",
          "height": 282
        },
        "outputId": "a346b47c-8be8-41d6-e79c-d1842495baee"
      },
      "source": [
        "languages = ['Italian', 'English', 'German_Deutsch', 'Greenlandic_Inuktikut']\n",
        "cfd = nltk.ConditionalFreqDist(\n",
        "    (lang, len(word))\n",
        "    for lang in languages\n",
        "    for word in udhr.words(lang + '-Latin1'))\n",
        "cfd.plot(cumulative=True)"
      ],
      "execution_count": 52,
      "outputs": [
        {
          "output_type": "display_data",
          "data": {
            "image/png": "[encoded data removed]",
            "text/plain": [
              "<Figure size 432x288 with 1 Axes>"
            ]
          },
          "metadata": {
            "tags": [],
            "needs_background": "light"
          }
        }
      ]
    },
    {
      "cell_type": "markdown",
      "metadata": {
        "id": "rH9aVQvQvKPx",
        "colab_type": "text"
      },
      "source": [
        "The Cumulative Distribution Plot of the lenth of the words in each language shows an interesting pattern: Romance + Latin languages show similar trends of most words being less than 10 characters long, but Greenlandic graph suggests that words in Greenlandic tend to be much longer (nonnegligible portion with >20 characters)"
      ]
    }
  ]
}